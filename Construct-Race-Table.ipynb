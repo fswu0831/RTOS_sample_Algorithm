{
 "cells": [
  {
   "cell_type": "code",
   "execution_count": 186,
   "metadata": {},
   "outputs": [
    {
     "name": "stderr",
     "output_type": "stream",
     "text": [
      "100%|██████████| 1/1 [00:00<00:00, 511.88it/s]\n",
      "100%|██████████| 1/1 [00:00<00:00, 1024.00it/s]"
     ]
    },
    {
     "name": "stdout",
     "output_type": "stream",
     "text": [
      "0\n",
      "\n",
      "1\n"
     ]
    },
    {
     "name": "stderr",
     "output_type": "stream",
     "text": [
      "\n"
     ]
    },
    {
     "ename": "IndexError",
     "evalue": "list index out of range",
     "output_type": "error",
     "traceback": [
      "\u001b[1;31m---------------------------------------------------------------------------\u001b[0m",
      "\u001b[1;31mIndexError\u001b[0m                                Traceback (most recent call last)",
      "\u001b[1;32m<ipython-input-186-4e7118330669>\u001b[0m in \u001b[0;36m<module>\u001b[1;34m\u001b[0m\n\u001b[0;32m    102\u001b[0m     \u001b[0mprint\u001b[0m\u001b[1;33m(\u001b[0m\u001b[0mint\u001b[0m\u001b[1;33m(\u001b[0m\u001b[0mt\u001b[0m\u001b[1;33m[\u001b[0m\u001b[0mi\u001b[0m\u001b[1;33m]\u001b[0m\u001b[1;33m)\u001b[0m\u001b[1;33m)\u001b[0m\u001b[1;33m\u001b[0m\u001b[1;33m\u001b[0m\u001b[0m\n\u001b[0;32m    103\u001b[0m     \u001b[1;31m#let s be the t[i] sending event in race_set(ri)\u001b[0m\u001b[1;33m\u001b[0m\u001b[1;33m\u001b[0m\u001b[1;33m\u001b[0m\u001b[0m\n\u001b[1;32m--> 104\u001b[1;33m     \u001b[0ms\u001b[0m\u001b[1;33m=\u001b[0m \u001b[0mrace_set\u001b[0m\u001b[1;33m[\u001b[0m\u001b[0mR\u001b[0m\u001b[1;33m[\u001b[0m\u001b[0mi\u001b[0m\u001b[1;33m]\u001b[0m\u001b[1;33m]\u001b[0m\u001b[1;33m[\u001b[0m\u001b[0mint\u001b[0m\u001b[1;33m(\u001b[0m\u001b[0mt\u001b[0m\u001b[1;33m[\u001b[0m\u001b[0mi\u001b[0m\u001b[1;33m]\u001b[0m\u001b[1;33m)\u001b[0m\u001b[1;33m]\u001b[0m\u001b[1;33m\u001b[0m\u001b[1;33m\u001b[0m\u001b[0m\n\u001b[0m\u001b[0;32m    105\u001b[0m \u001b[1;33m\u001b[0m\u001b[0m\n\u001b[0;32m    106\u001b[0m \u001b[1;33m\u001b[0m\u001b[0m\n",
      "\u001b[1;31mIndexError\u001b[0m: list index out of range"
     ]
    }
   ],
   "source": [
    "import pandas as pd\n",
    "import numpy as np\n",
    "from tqdm import tqdm\n",
    "\n",
    "def cstruct(Q,Qs,Qr,send,results):\n",
    "    s_thread=send['Thread']\n",
    "    s_index=send['Index']\n",
    "    if s_index==1:\n",
    "        return results\n",
    "    temp=Q[(Q.Thread == s_thread) & (Q.Index==s_index-1)].iloc[0]\n",
    "    if temp['Event']=='send':\n",
    "        results.append(temp['ID'])\n",
    "        send=temp\n",
    "        return cstruct(Q,Qs,Qr,send,results)\n",
    "    else:\n",
    "        results.append(temp['ID'])\n",
    "        send=Qs.loc[temp.name]\n",
    "        results.append(send['ID'])\n",
    "        return cstruct(Q,Qs,Qr,send,results)\n",
    "    \n",
    "def no_index(start,finish,t,k):\n",
    "    for l in range(start,finish):\n",
    "        if t[l]>0 and R[l] in cstruct(Q,Qs,Qr,Qr[(Qr.ID==R[k])].iloc[0],results):\n",
    "            return True\n",
    "        else:\n",
    "            continue\n",
    "    return False\n",
    "\n",
    "'''\n",
    "if len(t[t>0])>0 and cstruct(Q,Qs,Qr,Qs.iloc[k],results):\n",
    "    return False #there is an index\n",
    "else:\n",
    "    return True # there is no index\n",
    "'''\n",
    "    \n",
    "#============ここから定義============\n",
    "    \n",
    "heading_res=('Thread','Port','Index')\n",
    "heading_snd=('Thread','Port','Event','Index')\n",
    "\n",
    "\n",
    "#Q is SYN-sequence\n",
    "Qr=pd.read_table('SYN-res.csv',names=heading_res)\n",
    "Qs=pd.read_table('SYN-snd.csv',names=heading_snd)\n",
    "\n",
    "\n",
    "r_list=list(range(1,len(Qr)+1))\n",
    "r_list=list(map(lambda x:'r'+str(x),r_list)) #['r1', 'r2', 'r3', 'r4']\n",
    "s_list=list(range(1,len(Qs)+1))\n",
    "s_list=list(map(lambda x:'s'+str(x),s_list)) #['s1', 's2', 's3', 's4']\n",
    "\n",
    "Qr.insert(0,'ID',r_list) #attach the name of event\n",
    "Qs.insert(0,'ID',s_list) #attach the name of event\n",
    "\n",
    "Q=[] #Q is SYN-sequence\n",
    "Q=pd.merge(Qr,Qs,how='outer')\n",
    "race_set={'r1':['s2'],'r2':[],'r3':['s4'],'r4':[]} #sample data\n",
    "\n",
    "\n",
    "\n",
    "#============ここまで定義============\n",
    "\n",
    "R=[] #create race_set\n",
    "D=[] #number of race_set\n",
    "heading=[] #{r1,r2,....r}\n",
    "\n",
    "# set R,D\n",
    "for key in race_set.keys():\n",
    "    if len(race_set[key])>0:\n",
    "        R.append(key) # raceのあるイベントを追加\n",
    "        D.append(len(race_set[key])) #raceの数を追加\n",
    "        heading.append(key) # r\n",
    "table=pd.DataFrame([],columns=heading)\n",
    "\n",
    "t=np.zeros(len(R)) #raceの数分の配列\n",
    "\n",
    "while True:\n",
    "    results=[]\n",
    "    #num=0\n",
    "    #num+=1　\n",
    "    max_index=''\n",
    "    for i in range(len(t)-1,-1,-1):\n",
    "        if t[i]<D[i] and t[i]!=-1:\n",
    "            max_index=i\n",
    "    if max_index=='':\n",
    "        break\n",
    "    t[i]+=1\n",
    "    \n",
    "    if t[i]==1: #just changed t[i] from 0 to 1\n",
    "        \n",
    "        for j in tqdm(range(i+1,len(R))):\n",
    "            if t[j]!=-1 and cstruct(Q,Qs,Qr,Qr[(Qr.ID==R[j])].iloc[0],results):\n",
    "                t[j]=-1\n",
    "    for j in tqdm(range(i+1,len(R))):\n",
    "        if(t[j]==D[j]):\n",
    "            t[j]=0 #just change t[j] from dj to 0\n",
    "            \n",
    "            for k in tqdm(range(j+1,len(R))):\n",
    "                if t[k]==-1 and R[j] in cstruct(Q,Qs,Qr,Qr[(Qr.ID==R[k])].iloc[0],results) and no_index(1,k,t,Qr[(Qr.ID==R[k])].iloc[0]):# ここ間違えてる可能性あり\n",
    "                    t[k]=0\n",
    "    print(str(i)+\"\\n\")\n",
    "    print(int(t[i]))\n",
    "    #let s be the t[i] sending event in race_set(ri)\n",
    "    s= race_set[R[i]][int(t[i])] \n",
    "\n",
    "    \n",
    "    if no_index2(1,len(R)+1,t,s):\n",
    "        table=table.append(pd.Series(t,index=table.columns),ignore_index=True)\n",
    "table\n",
    "\n",
    "\n"
   ]
  },
  {
   "cell_type": "code",
   "execution_count": 12,
   "metadata": {},
   "outputs": [
    {
     "name": "stdout",
     "output_type": "stream",
     "text": [
      "['r2', 's2']\n"
     ]
    }
   ],
   "source": [
    "# 例題\n",
    "\n",
    "send=Qs.loc[2]\n",
    "results=list(cstruct(Q[0],Qs,Qr,send,results))\n",
    "print(results)"
   ]
  },
  {
   "cell_type": "code",
   "execution_count": 97,
   "metadata": {},
   "outputs": [
    {
     "name": "stdout",
     "output_type": "stream",
     "text": [
      "1\n",
      "0\n"
     ]
    }
   ],
   "source": [
    "for i in range(len(t)-1,-1,-1):\n",
    "    print(i)"
   ]
  },
  {
   "cell_type": "code",
   "execution_count": 156,
   "metadata": {},
   "outputs": [
    {
     "data": {
      "text/plain": [
       "[]"
      ]
     },
     "execution_count": 156,
     "metadata": {},
     "output_type": "execute_result"
    }
   ],
   "source": [
    "cstruct(Q,Qs,Qr,Qr[(Qr.ID==R[0])].iloc[0],results)"
   ]
  },
  {
   "cell_type": "code",
   "execution_count": 163,
   "metadata": {},
   "outputs": [
    {
     "data": {
      "text/plain": [
       "[]"
      ]
     },
     "execution_count": 163,
     "metadata": {},
     "output_type": "execute_result"
    }
   ],
   "source": [
    "results=[]\n",
    "cstruct(Q,Qs,Qr,Qr[(Qr.ID==R[0])].iloc[0],results)"
   ]
  },
  {
   "cell_type": "code",
   "execution_count": 157,
   "metadata": {},
   "outputs": [
    {
     "data": {
      "text/plain": [
       "ID          r1\n",
       "Thread      T1\n",
       "Port      {p2}\n",
       "Index        1\n",
       "Name: 0, dtype: object"
      ]
     },
     "execution_count": 157,
     "metadata": {},
     "output_type": "execute_result"
    }
   ],
   "source": [
    "Qr[(Qr.ID==R[0])].iloc[0]"
   ]
  },
  {
   "cell_type": "code",
   "execution_count": 192,
   "metadata": {},
   "outputs": [
    {
     "data": {
      "text/plain": [
       "[]"
      ]
     },
     "execution_count": 192,
     "metadata": {},
     "output_type": "execute_result"
    }
   ],
   "source": [
    "cstruct(Q,Qs,Qr,Qr[(Qr.ID==R[0])].iloc[0],results)"
   ]
  },
  {
   "cell_type": "code",
   "execution_count": 191,
   "metadata": {},
   "outputs": [
    {
     "data": {
      "text/plain": [
       "[]"
      ]
     },
     "execution_count": 191,
     "metadata": {},
     "output_type": "execute_result"
    }
   ],
   "source": [
    "cstruct(Q,Qs,Qr,Qr.iloc[0],results)"
   ]
  },
  {
   "cell_type": "code",
   "execution_count": 190,
   "metadata": {},
   "outputs": [
    {
     "data": {
      "text/plain": [
       "ID          r1\n",
       "Thread      T1\n",
       "Port      {p2}\n",
       "Index        1\n",
       "Name: 0, dtype: object"
      ]
     },
     "execution_count": 190,
     "metadata": {},
     "output_type": "execute_result"
    }
   ],
   "source": [
    "Qr.iloc[0]"
   ]
  },
  {
   "cell_type": "code",
   "execution_count": 193,
   "metadata": {},
   "outputs": [
    {
     "data": {
      "text/plain": [
       "ID          r1\n",
       "Thread      T1\n",
       "Port      {p2}\n",
       "Index        1\n",
       "Name: 0, dtype: object"
      ]
     },
     "execution_count": 193,
     "metadata": {},
     "output_type": "execute_result"
    }
   ],
   "source": [
    "Qr[(Qr.ID==R[0])].iloc[0]"
   ]
  },
  {
   "cell_type": "code",
   "execution_count": null,
   "metadata": {},
   "outputs": [],
   "source": []
  }
 ],
 "metadata": {
  "kernelspec": {
   "display_name": "Python 3",
   "language": "python",
   "name": "python3"
  },
  "language_info": {
   "codemirror_mode": {
    "name": "ipython",
    "version": 3
   },
   "file_extension": ".py",
   "mimetype": "text/x-python",
   "name": "python",
   "nbconvert_exporter": "python",
   "pygments_lexer": "ipython3",
   "version": "3.7.7"
  }
 },
 "nbformat": 4,
 "nbformat_minor": 4
}
