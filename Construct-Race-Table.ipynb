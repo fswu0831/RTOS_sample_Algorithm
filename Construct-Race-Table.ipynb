{
 "cells": [
  {
   "cell_type": "code",
   "execution_count": 56,
   "metadata": {},
   "outputs": [
    {
     "name": "stderr",
     "output_type": "stream",
     "text": [
      "0it [00:00, ?it/s]\n",
      "0it [00:00, ?it/s]\n",
      "100%|██████████| 1/1 [00:00<00:00, 501.35it/s]\n",
      "  0%|          | 0/1 [00:00<?, ?it/s]\n",
      "0it [00:00, ?it/s]\u001b[A\n",
      "100%|██████████| 1/1 [00:00<00:00, 143.22it/s]\n",
      "0it [00:00, ?it/s]\n",
      "0it [00:00, ?it/s]"
     ]
    },
    {
     "name": "stdout",
     "output_type": "stream",
     "text": [
      "[0. 1.]\n",
      "1\n",
      "\n",
      "1\n",
      "[1. 1.]\n",
      "0\n",
      "\n",
      "1\n",
      "[1. 1.]\n",
      "1\n",
      "\n",
      "1\n"
     ]
    },
    {
     "name": "stderr",
     "output_type": "stream",
     "text": [
      "\n"
     ]
    },
    {
     "data": {
      "text/html": [
       "<div>\n",
       "<style scoped>\n",
       "    .dataframe tbody tr th:only-of-type {\n",
       "        vertical-align: middle;\n",
       "    }\n",
       "\n",
       "    .dataframe tbody tr th {\n",
       "        vertical-align: top;\n",
       "    }\n",
       "\n",
       "    .dataframe thead th {\n",
       "        text-align: right;\n",
       "    }\n",
       "</style>\n",
       "<table border=\"1\" class=\"dataframe\">\n",
       "  <thead>\n",
       "    <tr style=\"text-align: right;\">\n",
       "      <th></th>\n",
       "      <th>r1</th>\n",
       "      <th>r3</th>\n",
       "    </tr>\n",
       "  </thead>\n",
       "  <tbody>\n",
       "  </tbody>\n",
       "</table>\n",
       "</div>"
      ],
      "text/plain": [
       "Empty DataFrame\n",
       "Columns: [r1, r3]\n",
       "Index: []"
      ]
     },
     "execution_count": 56,
     "metadata": {},
     "output_type": "execute_result"
    }
   ],
   "source": [
    "import pandas as pd\n",
    "import numpy as np\n",
    "from tqdm import tqdm\n",
    "\n",
    "def cstruct(Q,Qs,Qr,send,results):\n",
    "    s_thread=send['Thread']\n",
    "    s_index=send['Index']\n",
    "    if s_index==1:\n",
    "        return results\n",
    "    temp=Q[(Q.Thread == s_thread) & (Q.Index==s_index-1)].iloc[0]\n",
    "    if temp['Event']=='send':\n",
    "        results.append(temp['ID'])\n",
    "        send=temp\n",
    "        return cstruct(Q,Qs,Qr,send,results)\n",
    "    else:\n",
    "        results.append(temp['ID'])\n",
    "        send=Qs.loc[temp.name]\n",
    "        results.append(send['ID'])\n",
    "        return cstruct(Q,Qs,Qr,send,results)\n",
    "    \n",
    "def no_index(start,finish,t,event):\n",
    "    #if type(event)==int:\n",
    "    #    event=Qr[(Qr.ID==R[finish])].iloc[0]\n",
    "    for l in range(start,finish):\n",
    "        if t[l]>0 and R[l] in cstruct(Q,Qs,Qr,event,results):\n",
    "            return True\n",
    "        else:\n",
    "            continue\n",
    "    return False\n",
    "\n",
    "'''\n",
    "if len(t[t>0])>0 and cstruct(Q,Qs,Qr,Qs.iloc[k],results):\n",
    "    return False #there is an index\n",
    "else:\n",
    "    return True # there is no index\n",
    "'''\n",
    "    \n",
    "#============ここから定義============\n",
    "    \n",
    "heading_res=('Thread','Port','Index')\n",
    "heading_snd=('Thread','Port','Event','Index')\n",
    "\n",
    "\n",
    "#Q is SYN-sequence\n",
    "Qr=pd.read_table('SYN-res.csv',names=heading_res)\n",
    "Qs=pd.read_table('SYN-snd.csv',names=heading_snd)\n",
    "\n",
    "\n",
    "r_list=list(range(1,len(Qr)+1))\n",
    "r_list=list(map(lambda x:'r'+str(x),r_list)) #['r1', 'r2', 'r3', 'r4']\n",
    "s_list=list(range(1,len(Qs)+1))\n",
    "s_list=list(map(lambda x:'s'+str(x),s_list)) #['s1', 's2', 's3', 's4']\n",
    "\n",
    "Qr.insert(0,'ID',r_list) #attach the name of event\n",
    "Qs.insert(0,'ID',s_list) #attach the name of event\n",
    "\n",
    "Q=[] #Q is SYN-sequence\n",
    "Q=pd.merge(Qr,Qs,how='outer')\n",
    "race_set={'r1':['s2'],'r2':[],'r3':['s4'],'r4':[]} #sample data\n",
    "\n",
    "\n",
    "\n",
    "#============ここまで定義============\n",
    "\n",
    "R=[] #create race_set\n",
    "D=[] #number of race_set\n",
    "heading=[] #{r1,r2,....r}\n",
    "\n",
    "# set R,D\n",
    "for key in race_set.keys():\n",
    "    if len(race_set[key])>0:\n",
    "        R.append(key) # raceのあるイベントを追加\n",
    "        D.append(len(race_set[key])) #raceの数を追加\n",
    "        heading.append(key) # r\n",
    "table=pd.DataFrame([],columns=heading)\n",
    "\n",
    "t=np.zeros(len(R)) #raceの数分の配列\n",
    "\n",
    "while True:\n",
    "    results=[]\n",
    "    #num=0\n",
    "    #num+=1　\n",
    "    max_index=''\n",
    "    for i in range(len(t)-1,-1,-1):\n",
    "        if t[i]<D[i] and t[i]!=-1:\n",
    "            max_index=i\n",
    "            break\n",
    "    if max_index=='':\n",
    "        break\n",
    "    t[i]+=1\n",
    "    \n",
    "    if t[i]==1: #just changed t[i] from 0 to 1\n",
    "        \n",
    "        for j in tqdm(range(i+1,len(R))):\n",
    "            if t[j]!=-1 and Qr.iloc[i+1].ID in cstruct(Q,Qs,Qr,Qr.iloc[j+1],[]):\n",
    "                t[j]=-1\n",
    "    print(t)\n",
    "    for j in tqdm(range(i+1,len(R))):\n",
    "        if(t[j]==D[j]):\n",
    "            t[j]=0 #just change t[j] from dj to 0\n",
    "            \n",
    "            for k in tqdm(range(j+1,len(R))):\n",
    "                if t[k]==-1 and Qr.iloc[j+1].ID in cstruct(Q,Qs,Qr,Qr.iloc[k+1],[]) and no_index(1,k,t,Qr[(Qr.ID==R[k])].iloc[0]):# ここ間違えてる可能性あり\n",
    "                    for l in range(1,k):\n",
    "                        if Qr.iloc[l+1].ID in cstruct(Q,Qs,Qr,Qr.iloc[k+1],[]):\n",
    "                            t[k]=0\n",
    "    print(str(i)+\"\\n\")\n",
    "    print(int(t[i]))\n",
    "    #let s be the t[i] sending event in race_set(ri)\n",
    "    s= race_set[R[i]][int(t[i])-1] \n",
    "\n",
    "    \n",
    "    if no_index(0,len(R),t,Qs[(Qs.ID==s)].iloc[0]):\n",
    "        table=table.append(pd.Series(t,index=table.columns),ignore_index=True)\n",
    "        print('appned')\n",
    "table\n",
    "\n",
    "\n"
   ]
  },
  {
   "cell_type": "code",
   "execution_count": 12,
   "metadata": {},
   "outputs": [
    {
     "name": "stdout",
     "output_type": "stream",
     "text": [
      "['r2', 's2']\n"
     ]
    }
   ],
   "source": [
    "# 例題\n",
    "\n",
    "send=Qs.loc[2]\n",
    "results=list(cstruct(Q[0],Qs,Qr,send,results))\n",
    "print(results)"
   ]
  },
  {
   "cell_type": "code",
   "execution_count": 53,
   "metadata": {},
   "outputs": [
    {
     "data": {
      "text/plain": [
       "'s4'"
      ]
     },
     "execution_count": 53,
     "metadata": {},
     "output_type": "execute_result"
    }
   ],
   "source": [
    "s"
   ]
  },
  {
   "cell_type": "code",
   "execution_count": 43,
   "metadata": {},
   "outputs": [
    {
     "name": "stdout",
     "output_type": "stream",
     "text": [
      "0\n"
     ]
    }
   ],
   "source": [
    "if R[1] in cstruct(Q,Qs,Qr,Qr[(Qr.ID==R[1])].iloc[0],results):\n",
    "    print(1)\n",
    "else:\n",
    "    print(0)"
   ]
  },
  {
   "cell_type": "code",
   "execution_count": 26,
   "metadata": {},
   "outputs": [
    {
     "data": {
      "text/plain": [
       "[]"
      ]
     },
     "execution_count": 26,
     "metadata": {},
     "output_type": "execute_result"
    }
   ],
   "source": [
    "cstruct(Q,Qs,Qr,Qr[(Qr.ID==R[1])].iloc[0],results)"
   ]
  },
  {
   "cell_type": "code",
   "execution_count": 25,
   "metadata": {},
   "outputs": [
    {
     "data": {
      "text/plain": [
       "ID          r3\n",
       "Thread      T3\n",
       "Port      {p3}\n",
       "Index        1\n",
       "Name: 2, dtype: object"
      ]
     },
     "execution_count": 25,
     "metadata": {},
     "output_type": "execute_result"
    }
   ],
   "source": [
    "Qr[(Qr.ID==R[1])].iloc[0]"
   ]
  },
  {
   "cell_type": "code",
   "execution_count": 28,
   "metadata": {},
   "outputs": [
    {
     "data": {
      "text/plain": [
       "[]"
      ]
     },
     "execution_count": 28,
     "metadata": {},
     "output_type": "execute_result"
    }
   ],
   "source": [
    "cstruct(Q,Qs,Qr,Qr[(Qr.ID==R[1])].iloc[0],[])"
   ]
  },
  {
   "cell_type": "code",
   "execution_count": 27,
   "metadata": {},
   "outputs": [
    {
     "data": {
      "text/plain": [
       "['r3', 's3', 'r2', 's2']"
      ]
     },
     "execution_count": 27,
     "metadata": {},
     "output_type": "execute_result"
    }
   ],
   "source": [
    "cstruct(Q,Qs,Qr,Qr.iloc[3],[])"
   ]
  },
  {
   "cell_type": "code",
   "execution_count": 37,
   "metadata": {},
   "outputs": [
    {
     "name": "stdout",
     "output_type": "stream",
     "text": [
      "r1 []\n",
      "s1 []\n",
      "r2 []\n",
      "s2 []\n",
      "r3 []\n",
      "s3 ['r2', 's2']\n",
      "r4 ['r3', 's3', 'r2', 's2']\n",
      "s4 ['s2']\n"
     ]
    }
   ],
   "source": [
    "for i in range(0,4):\n",
    "    print('r'+str(i+1),cstruct(Q,Qs,Qr,Qr.iloc[i],[]))\n",
    "    print('s'+str(i+1),cstruct(Q,Qs,Qr,Qs.iloc[i],[]))"
   ]
  },
  {
   "cell_type": "code",
   "execution_count": 32,
   "metadata": {},
   "outputs": [
    {
     "data": {
      "text/plain": [
       "ID          r3\n",
       "Thread      T3\n",
       "Port      {p3}\n",
       "Index        1\n",
       "Name: 2, dtype: object"
      ]
     },
     "execution_count": 32,
     "metadata": {},
     "output_type": "execute_result"
    }
   ],
   "source": [
    "Qr[(Qr.ID==R[1])].iloc[0]"
   ]
  },
  {
   "cell_type": "code",
   "execution_count": 51,
   "metadata": {},
   "outputs": [
    {
     "name": "stdout",
     "output_type": "stream",
     "text": [
      "1\n"
     ]
    }
   ],
   "source": [
    "event=0\n",
    "if type(event)==int:\n",
    "    print(1)"
   ]
  },
  {
   "cell_type": "code",
   "execution_count": 14,
   "metadata": {},
   "outputs": [
    {
     "data": {
      "text/plain": [
       "ID          r1\n",
       "Thread      T1\n",
       "Port      {p2}\n",
       "Index        1\n",
       "Name: 0, dtype: object"
      ]
     },
     "execution_count": 14,
     "metadata": {},
     "output_type": "execute_result"
    }
   ],
   "source": [
    "Qr.iloc[0+1]"
   ]
  },
  {
   "cell_type": "code",
   "execution_count": 240,
   "metadata": {},
   "outputs": [
    {
     "ename": "NameError",
     "evalue": "name 'temp' is not defined",
     "output_type": "error",
     "traceback": [
      "\u001b[1;31m---------------------------------------------------------------------------\u001b[0m",
      "\u001b[1;31mNameError\u001b[0m                                 Traceback (most recent call last)",
      "\u001b[1;32m<ipython-input-240-072d2beea616>\u001b[0m in \u001b[0;36m<module>\u001b[1;34m\u001b[0m\n\u001b[1;32m----> 1\u001b[1;33m \u001b[0mQs\u001b[0m\u001b[1;33m.\u001b[0m\u001b[0mloc\u001b[0m\u001b[1;33m[\u001b[0m\u001b[0mtemp\u001b[0m\u001b[1;33m.\u001b[0m\u001b[0mname\u001b[0m\u001b[1;33m]\u001b[0m\u001b[1;33m\u001b[0m\u001b[1;33m\u001b[0m\u001b[0m\n\u001b[0m",
      "\u001b[1;31mNameError\u001b[0m: name 'temp' is not defined"
     ]
    }
   ],
   "source": [
    "Qs.loc[temp.name]"
   ]
  },
  {
   "cell_type": "code",
   "execution_count": null,
   "metadata": {},
   "outputs": [],
   "source": []
  }
 ],
 "metadata": {
  "kernelspec": {
   "display_name": "Python 3",
   "language": "python",
   "name": "python3"
  },
  "language_info": {
   "codemirror_mode": {
    "name": "ipython",
    "version": 3
   },
   "file_extension": ".py",
   "mimetype": "text/x-python",
   "name": "python",
   "nbconvert_exporter": "python",
   "pygments_lexer": "ipython3",
   "version": "3.7.7"
  }
 },
 "nbformat": 4,
 "nbformat_minor": 4
}
