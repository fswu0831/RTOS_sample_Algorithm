{
 "cells": [
  {
   "cell_type": "code",
   "execution_count": 94,
   "metadata": {},
   "outputs": [
    {
     "ename": "SyntaxError",
     "evalue": "invalid syntax (<ipython-input-94-e71bb9a48c31>, line 16)",
     "output_type": "error",
     "traceback": [
      "\u001b[1;36m  File \u001b[1;32m\"<ipython-input-94-e71bb9a48c31>\"\u001b[1;36m, line \u001b[1;32m16\u001b[0m\n\u001b[1;33m    D.append(key:[len(r[key])])\u001b[0m\n\u001b[1;37m                ^\u001b[0m\n\u001b[1;31mSyntaxError\u001b[0m\u001b[1;31m:\u001b[0m invalid syntax\n"
     ]
    }
   ],
   "source": [
    "import pandas as pd\n",
    "import numpy as np\n",
    "\n",
    "def c-struct():\n",
    "    return True\n",
    "\n",
    "def no_index(k,t):\n",
    "    if len(t[t>0])>0 and c-struct(heading[k]):\n",
    "        return False #there is an index\n",
    "    else:\n",
    "        return True # there is no index\n",
    "    \n",
    "\n",
    "r={'r1':['s2'],'r2':['s4'],'r3':[],'r4':[]} #sample data\n",
    "\n",
    "R=[]\n",
    "D=[]\n",
    "heading=[]\n",
    "for key in r.keys():\n",
    "    if len(r[key])>0:\n",
    "        R.append(key)\n",
    "        D.append(len(r[key]))\n",
    "        heading.append('r'+str(len(heading)+1))\n",
    "table=pd.DataFrame([],columns=heading)\n",
    "\n",
    "t=np.zeros(len(R))\n",
    "\n",
    "while True:\n",
    "    max_index=''\n",
    "    for i in range(len(t),-1,-1):\n",
    "        if t[i]<D[i] and t[i]!=-1:\n",
    "            max_index=i\n",
    "    if not max_index:\n",
    "        break\n",
    "    t[i]++\n",
    "    if t[i]==1: #just changed t[i] from 0 to 1\n",
    "        for j in range(i+1,len(R)):\n",
    "            if t[j]!=-1 and c-struct(heading[j]):# maybe add and ri in c-struct(r)\n",
    "                t[j]=-1\n",
    "    for j in range(i+1,len(R)):\n",
    "        if(t[j]==d[j]):\n",
    "            t[j]=0\n",
    "            for k in range(j+1,len(R)):\n",
    "                if t[k]==-1 and c-struct(heading[k]) and no_index(k,t):\n",
    "                    t[k]=0\n",
    "    # s=\n",
    "    if no_index(len(R),t):\n",
    "        \n",
    "return table"
   ]
  },
  {
   "cell_type": "code",
   "execution_count": 95,
   "metadata": {},
   "outputs": [
    {
     "data": {
      "text/html": [
       "<div>\n",
       "<style scoped>\n",
       "    .dataframe tbody tr th:only-of-type {\n",
       "        vertical-align: middle;\n",
       "    }\n",
       "\n",
       "    .dataframe tbody tr th {\n",
       "        vertical-align: top;\n",
       "    }\n",
       "\n",
       "    .dataframe thead th {\n",
       "        text-align: right;\n",
       "    }\n",
       "</style>\n",
       "<table border=\"1\" class=\"dataframe\">\n",
       "  <thead>\n",
       "    <tr style=\"text-align: right;\">\n",
       "      <th></th>\n",
       "      <th>r1</th>\n",
       "      <th>r2</th>\n",
       "    </tr>\n",
       "  </thead>\n",
       "  <tbody>\n",
       "  </tbody>\n",
       "</table>\n",
       "</div>"
      ],
      "text/plain": [
       "Empty DataFrame\n",
       "Columns: [r1, r2]\n",
       "Index: []"
      ]
     },
     "execution_count": 95,
     "metadata": {},
     "output_type": "execute_result"
    }
   ],
   "source": [
    "table"
   ]
  },
  {
   "cell_type": "code",
   "execution_count": 36,
   "metadata": {},
   "outputs": [],
   "source": [
    "t=np.zeros(4)"
   ]
  },
  {
   "cell_type": "code",
   "execution_count": 91,
   "metadata": {},
   "outputs": [
    {
     "data": {
      "text/plain": [
       "['r1', 'r2']"
      ]
     },
     "execution_count": 91,
     "metadata": {},
     "output_type": "execute_result"
    }
   ],
   "source": [
    "R"
   ]
  },
  {
   "cell_type": "code",
   "execution_count": 92,
   "metadata": {},
   "outputs": [
    {
     "data": {
      "text/plain": [
       "[1, 1]"
      ]
     },
     "execution_count": 92,
     "metadata": {},
     "output_type": "execute_result"
    }
   ],
   "source": [
    "D"
   ]
  },
  {
   "cell_type": "code",
   "execution_count": 67,
   "metadata": {},
   "outputs": [],
   "source": [
    "r={'r1':['s2'],'r2':['s4'],'r3':[],'r4':[]} #sample data"
   ]
  },
  {
   "cell_type": "code",
   "execution_count": 102,
   "metadata": {},
   "outputs": [
    {
     "data": {
      "text/plain": [
       "array([0., 0.])"
      ]
     },
     "execution_count": 102,
     "metadata": {},
     "output_type": "execute_result"
    }
   ],
   "source": [
    "t"
   ]
  },
  {
   "cell_type": "code",
   "execution_count": 101,
   "metadata": {},
   "outputs": [
    {
     "name": "stdout",
     "output_type": "stream",
     "text": [
      "[]\n"
     ]
    }
   ],
   "source": [
    "print(sample)"
   ]
  },
  {
   "cell_type": "code",
   "execution_count": null,
   "metadata": {},
   "outputs": [],
   "source": []
  }
 ],
 "metadata": {
  "kernelspec": {
   "display_name": "Python 3",
   "language": "python",
   "name": "python3"
  },
  "language_info": {
   "codemirror_mode": {
    "name": "ipython",
    "version": 3
   },
   "file_extension": ".py",
   "mimetype": "text/x-python",
   "name": "python",
   "nbconvert_exporter": "python",
   "pygments_lexer": "ipython3",
   "version": "3.7.7"
  }
 },
 "nbformat": 4,
 "nbformat_minor": 4
}
