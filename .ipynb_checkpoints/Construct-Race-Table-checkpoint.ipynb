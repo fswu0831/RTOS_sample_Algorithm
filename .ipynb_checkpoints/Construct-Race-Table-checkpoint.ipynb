{
 "cells": [
  {
   "cell_type": "code",
   "execution_count": null,
   "metadata": {},
   "outputs": [
    {
     "name": "stdout",
     "output_type": "stream",
     "text": [
      "ok\n",
      "ok\n"
     ]
    }
   ],
   "source": [
    "import pandas as pd\n",
    "import numpy as np\n",
    "from tqdm import tqdm\n",
    "\n",
    "def cstruct(Q,Qs,Qr,send,results):\n",
    "    s_thread=send['Thread']\n",
    "    s_index=send['Index']\n",
    "    if s_index==1:\n",
    "        return results\n",
    "    temp=Q[(Q.Thread == s_thread) & (Q.Index==s_index-1)].iloc[0]\n",
    "    if temp['Event']=='send':\n",
    "        results.append(temp['ID'])\n",
    "        send=temp\n",
    "        return cstruct(Q,Qs,Qr,send,results)\n",
    "    else:\n",
    "        results.append(temp['ID'])\n",
    "        send=Qs.loc[temp.name]\n",
    "        results.append(send['ID'])\n",
    "        return cstruct(Q,Qs,Qr,send,results)\n",
    "    \n",
    "def no_index(k,t):\n",
    "    if len(t[t>0])>0 and cstruct(Q,Qs,Qr,Qr.iloc[k],results):\n",
    "        return False #there is an index\n",
    "    else:\n",
    "        return True # there is no index\n",
    "    \n",
    "#============ここから定義============\n",
    "    \n",
    "heading_res=('Thread','Port','Index')\n",
    "heading_snd=('Thread','Port','Event','Index')\n",
    "\n",
    "\n",
    "#Q is SYN-sequence\n",
    "Qr=pd.read_table('SYN-res.csv',names=heading_res)\n",
    "Qs=pd.read_table('SYN-snd.csv',names=heading_snd)\n",
    "\n",
    "\n",
    "r_list=list(range(1,len(Qr)+1))\n",
    "r_list=list(map(lambda x:'r'+str(x),r_list)) #['r1', 'r2', 'r3', 'r4']\n",
    "s_list=list(range(1,len(Qs)+1))\n",
    "s_list=list(map(lambda x:'s'+str(x),s_list)) #['s1', 's2', 's3', 's4']\n",
    "\n",
    "Qr.insert(0,'ID',r_list) #attach the name of event\n",
    "Qs.insert(0,'ID',s_list) #attach the name of event\n",
    "\n",
    "Q=[] #Q is SYN-sequence\n",
    "Q=pd.merge(Qr,Qs,how='outer')\n",
    "race_set={'r1':['s2'],'r2':[],'r3':['s4'],'r4':[]} #sample data\n",
    "\n",
    "\n",
    "\n",
    "#============ここまで定義============\n",
    "\n",
    "R=[] #create race_set\n",
    "D=[] #number of race_set\n",
    "heading=[] #{r1,r2,....r}\n",
    "\n",
    "# set R,D\n",
    "for key in race_set.keys():\n",
    "    if len(race_set[key])>0:\n",
    "        R.append(key) # raceのあるイベントを追加\n",
    "        D.append(len(race_set[key])) #raceの数を追加\n",
    "        heading.append(key) # r\n",
    "table=pd.DataFrame([],columns=heading)\n",
    "\n",
    "t=np.zeros(len(R)) #raceの数分の配列\n",
    "\n",
    "while True:\n",
    "    #num=0\n",
    "    #num+=1　\n",
    "    max_index=''\n",
    "    for i in range(len(t)-1,-1,-1):\n",
    "        if t[i]<D[i] and t[i]!=-1:\n",
    "            max_index=i\n",
    "            print('ok')\n",
    "    if max_index:\n",
    "        break\n",
    "    t[i]+=1\n",
    "    \n",
    "    if t[i]==1: #just changed t[i] from 0 to 1\n",
    "        \n",
    "        for j in tqdm(range(i+1,len(R))):\n",
    "            if t[j]!=-1 and cstruct(Q,Qs,Qr,send,results):\n",
    "                t[j]=-1\n",
    "    for j in range(i+1,len(R)):\n",
    "        if(t[j]==D[j]):\n",
    "            t[j]=0 #just change t[j] from dj to 0\n",
    "            \n",
    "            for k in range(j+1,len(R)):\n",
    "                if t[k]==-1 and cstruct(heading[k]) and no_index(k,t):\n",
    "                    t[k]=0\n",
    "                    \n",
    "    #list(r[R[i]])[t[i]-1]\n",
    "    if no_index(len(R)-1,t):\n",
    "        table=table.append(t,ignore_index=True)\n",
    "table\n",
    "\n",
    "\n"
   ]
  },
  {
   "cell_type": "code",
   "execution_count": 12,
   "metadata": {},
   "outputs": [
    {
     "name": "stdout",
     "output_type": "stream",
     "text": [
      "['r2', 's2']\n"
     ]
    }
   ],
   "source": [
    "# 例題\n",
    "results=[]\n",
    "send=Qs.loc[2]\n",
    "results=list(cstruct(Q[0],Qs,Qr,send,results))\n",
    "print(results)"
   ]
  },
  {
   "cell_type": "code",
   "execution_count": 76,
   "metadata": {},
   "outputs": [
    {
     "data": {
      "text/plain": [
       "ID          r2\n",
       "Thread      T2\n",
       "Port      {p2}\n",
       "Index        1\n",
       "Event      NaN\n",
       "Name: 1, dtype: object"
      ]
     },
     "execution_count": 76,
     "metadata": {},
     "output_type": "execute_result"
    }
   ],
   "source": [
    "Q[1]"
   ]
  },
  {
   "cell_type": "code",
   "execution_count": 54,
   "metadata": {},
   "outputs": [],
   "source": [
    "A=pd.DataFrame({})\n"
   ]
  },
  {
   "cell_type": "code",
   "execution_count": null,
   "metadata": {},
   "outputs": [],
   "source": [
    "table"
   ]
  },
  {
   "cell_type": "code",
   "execution_count": 52,
   "metadata": {},
   "outputs": [
    {
     "data": {
      "text/html": [
       "<div>\n",
       "<style scoped>\n",
       "    .dataframe tbody tr th:only-of-type {\n",
       "        vertical-align: middle;\n",
       "    }\n",
       "\n",
       "    .dataframe tbody tr th {\n",
       "        vertical-align: top;\n",
       "    }\n",
       "\n",
       "    .dataframe thead th {\n",
       "        text-align: right;\n",
       "    }\n",
       "</style>\n",
       "<table border=\"1\" class=\"dataframe\">\n",
       "  <thead>\n",
       "    <tr style=\"text-align: right;\">\n",
       "      <th></th>\n",
       "      <th>ID</th>\n",
       "      <th>Thread</th>\n",
       "      <th>Port</th>\n",
       "      <th>Index</th>\n",
       "    </tr>\n",
       "  </thead>\n",
       "  <tbody>\n",
       "    <tr>\n",
       "      <th>0</th>\n",
       "      <td>r1</td>\n",
       "      <td>T1</td>\n",
       "      <td>{p2}</td>\n",
       "      <td>1</td>\n",
       "    </tr>\n",
       "    <tr>\n",
       "      <th>1</th>\n",
       "      <td>r2</td>\n",
       "      <td>T2</td>\n",
       "      <td>{p2}</td>\n",
       "      <td>1</td>\n",
       "    </tr>\n",
       "    <tr>\n",
       "      <th>2</th>\n",
       "      <td>r3</td>\n",
       "      <td>T3</td>\n",
       "      <td>{p3}</td>\n",
       "      <td>1</td>\n",
       "    </tr>\n",
       "    <tr>\n",
       "      <th>3</th>\n",
       "      <td>r4</td>\n",
       "      <td>T3</td>\n",
       "      <td>{p3}</td>\n",
       "      <td>2</td>\n",
       "    </tr>\n",
       "  </tbody>\n",
       "</table>\n",
       "</div>"
      ],
      "text/plain": [
       "   ID Thread  Port  Index\n",
       "0  r1     T1  {p2}      1\n",
       "1  r2     T2  {p2}      1\n",
       "2  r3     T3  {p3}      1\n",
       "3  r4     T3  {p3}      2"
      ]
     },
     "execution_count": 52,
     "metadata": {},
     "output_type": "execute_result"
    }
   ],
   "source": [
    "Qr"
   ]
  },
  {
   "cell_type": "code",
   "execution_count": null,
   "metadata": {},
   "outputs": [],
   "source": []
  }
 ],
 "metadata": {
  "kernelspec": {
   "display_name": "Python 3",
   "language": "python",
   "name": "python3"
  },
  "language_info": {
   "codemirror_mode": {
    "name": "ipython",
    "version": 3
   },
   "file_extension": ".py",
   "mimetype": "text/x-python",
   "name": "python",
   "nbconvert_exporter": "python",
   "pygments_lexer": "ipython3",
   "version": "3.7.7"
  }
 },
 "nbformat": 4,
 "nbformat_minor": 4
}
