{
 "cells": [
  {
   "cell_type": "code",
   "execution_count": 4,
   "metadata": {},
   "outputs": [],
   "source": [
    "import pandas as pd\n",
    "import numpy as np\n",
    "from tqdm import tqdm\n",
    "\n",
    "def remove_race(race1,race2): #race_set(r,Q)=race_set(r,Q)-race_set(r,V)\n",
    "    for key1 in race1.keys():\n",
    "        try:\n",
    "            dup=list(set(race1[key1] + race2[key1]))\n",
    "            print(dup)\n",
    "            for index in range(len(dup)):\n",
    "                race1[key1].remove(dup[index])\n",
    "        except Exception as e:\n",
    "            print(e)\n",
    "            continue\n",
    "    return race1\n",
    "\n",
    "\n",
    "variants=''\n",
    "V=[]\n",
    "#variants=GenerateVariants(Q,V0)\n",
    "\n",
    "race_set1={'r1':['s2'],'r2':[],'r3':['s4'],'r4':[]}\n",
    "race_set2={'r1':['s2'],'r2':[],'r3':['s4'],'r4':[]}\n",
    "\n",
    "#while !variants:\n",
    "    "
   ]
  },
  {
   "cell_type": "code",
   "execution_count": null,
   "metadata": {},
   "outputs": [],
   "source": [
    "def Generatevariants(Q,V):\n",
    "    for key in V.keys():\n",
    "        if key[0]='r': #最初の文字でreceiveか判定\n",
    "            remove(race_set,)"
   ]
  },
  {
   "cell_type": "code",
   "execution_count": 12,
   "metadata": {},
   "outputs": [],
   "source": [
    "race_set1={'r1':['s2'],'r2':[],'r3':['s4'],'r4':[]}\n",
    "race_set2={'r1':['s2'],'r2':[],'r3':[''],'r4':[]}\n",
    "\n",
    "race_set1.update(race_set2)"
   ]
  },
  {
   "cell_type": "code",
   "execution_count": 51,
   "metadata": {},
   "outputs": [],
   "source": [
    "race_set1={'r1':['s2'],'r2':[],'r3':['s4'],'r4':[]}\n",
    "race_set2={'r1':['s2'],'r2':[],'r3':['s4'],'r4':[]}"
   ]
  },
  {
   "cell_type": "code",
   "execution_count": 52,
   "metadata": {},
   "outputs": [],
   "source": []
  },
  {
   "cell_type": "code",
   "execution_count": 53,
   "metadata": {},
   "outputs": [
    {
     "name": "stdout",
     "output_type": "stream",
     "text": [
      "['s2']\n",
      "[]\n",
      "['s4']\n",
      "[]\n"
     ]
    },
    {
     "data": {
      "text/plain": [
       "{'r1': [], 'r2': [], 'r3': [], 'r4': []}"
      ]
     },
     "execution_count": 53,
     "metadata": {},
     "output_type": "execute_result"
    }
   ],
   "source": [
    "remove_race(race_set1,race_set2)"
   ]
  },
  {
   "cell_type": "code",
   "execution_count": 37,
   "metadata": {},
   "outputs": [],
   "source": [
    "race=list(set(race_set1['r1'] + race_set2['r1']))"
   ]
  },
  {
   "cell_type": "code",
   "execution_count": 41,
   "metadata": {},
   "outputs": [
    {
     "data": {
      "text/plain": [
       "['s2']"
      ]
     },
     "execution_count": 41,
     "metadata": {},
     "output_type": "execute_result"
    }
   ],
   "source": [
    "race"
   ]
  },
  {
   "cell_type": "code",
   "execution_count": null,
   "metadata": {},
   "outputs": [],
   "source": []
  }
 ],
 "metadata": {
  "kernelspec": {
   "display_name": "Python 3",
   "language": "python",
   "name": "python3"
  },
  "language_info": {
   "codemirror_mode": {
    "name": "ipython",
    "version": 3
   },
   "file_extension": ".py",
   "mimetype": "text/x-python",
   "name": "python",
   "nbconvert_exporter": "python",
   "pygments_lexer": "ipython3",
   "version": "3.7.7"
  }
 },
 "nbformat": 4,
 "nbformat_minor": 4
}
