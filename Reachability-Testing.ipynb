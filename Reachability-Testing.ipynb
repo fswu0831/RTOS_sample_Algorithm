{
 "cells": [
  {
   "cell_type": "code",
   "execution_count": 1,
   "metadata": {},
   "outputs": [],
   "source": [
    "import pandas as pd\n",
    "import numpy as np\n",
    "from tqdm import tqdm\n",
    "import re\n",
    "from IPython.display import display\n",
    "\n",
    "def cstruct(event,results):\n",
    "    global Q\n",
    "    global Qs\n",
    "    global Qr\n",
    "    global check_digit\n",
    "    \n",
    "    if check_digit==0:\n",
    "        magic=0\n",
    "    else:\n",
    "        magic=1\n",
    "    \n",
    "    thread=event['Thread']\n",
    "    index=event['Index']\n",
    "       \n",
    "    if index==1:\n",
    "        return ''\n",
    "    for i in range(index-1,0,-1):\n",
    "        try:\n",
    "            temp=Qr[number+magic][(Qr[number+magic].Thread == thread) & (Qr[number+magic].Index==i)].iloc[0]\n",
    "        except:\n",
    "            temp=Qs[number+magic][(Qs[number+magic].Thread == thread) & (Qs[number+magic].Index==i)].iloc[0]\n",
    "        if temp['Event']=='send':\n",
    "            results.append(temp['ID'])\n",
    "            event=temp\n",
    "            results.extend(cstruct(event,results))\n",
    "        else:\n",
    "            results.append(temp['ID'])\n",
    "            send=Qs[number+magic].loc[temp.name]\n",
    "            results.append(send['ID'])\n",
    "            results.extend(cstruct(send,results))\n",
    "    return list(set(results))\n",
    "\n",
    "## raceの重複判定のためのc-struct\n",
    "\n",
    "\n",
    "    \n",
    "def no_index(start,finish,t,event,R):\n",
    "    #if type(event)==int:\n",
    "    #    event=Qr[(Qr.ID==R[finish])].iloc[0]\n",
    "    for l in range(start,finish):\n",
    "        if t[l]>0 and R[l] in cstruct(event,[]):\n",
    "            return True\n",
    "        else:\n",
    "            continue\n",
    "    return False\n",
    "\n",
    "    \n",
    "\n",
    "def construct_race_table(Q,Qs,Qr,race_set):\n",
    "    R=[] #create race_set\n",
    "    D=[] #number of race_set\n",
    "    heading=[] #{r1,r2,....r}\n",
    "\n",
    "    R.append('')\n",
    "    D.append('')\n",
    "    heading.append('dummy')\n",
    "    # set R,D\n",
    "    for key in race_set.keys():\n",
    "        if len(race_set[key])>0 and Q[Q['ID']==key].iloc[0].coler=='white':\n",
    "            R.append(key) # raceのあるイベントを追加\n",
    "            D.append(len(race_set[key])) #raceの数を追加\n",
    "            heading.append(key) # r\n",
    "    table=pd.DataFrame([],columns=heading)\n",
    "\n",
    "    t=np.zeros(len(R)) #raceの数分の配列 #t[0]はダミー\n",
    "\n",
    "    while True:\n",
    "\n",
    "        results=[]\n",
    "\n",
    "        max_index=''\n",
    "        for i in range(len(t)-1,0,-1):\n",
    "            if t[i]<D[i] and t[i]!=-1:\n",
    "                max_index=i\n",
    "                break\n",
    "        if max_index=='':\n",
    "            break\n",
    "        t[i]+=1\n",
    "\n",
    "        if t[i]==1: #just changed t[i] from 0 to 1\n",
    "\n",
    "            for j in range(i+1,len(R)):\n",
    "                if t[j]!=-1 and (Qr[Qr.ID==R[i]].iloc[0].ID in cstruct(Qr[Qr.ID==R[j]].iloc[0],[])):\n",
    "\n",
    "                    t[j]=-1\n",
    "\n",
    "        for j in range(i+1,len(R)):\n",
    "            if(t[j]==D[j]):\n",
    "                t[j]=0 #just change t[j] from dj to 0\n",
    "\n",
    "                for k in range(j+1,len(R)):\n",
    "                    if t[k]==-1 and Qr[Qr.ID==R[j]].iloc[0].ID in cstruct(Qr[Qr.ID==R[k]].iloc[0],[]) and no_index(1,k,t,Qr[(Qr.ID==R[k])].iloc[0],R):\n",
    "                        t[k]=0\n",
    "        #let s be the t[i] sending event in race_set(ri)\n",
    "        s= race_set[R[i]][int(t[i])-1] \n",
    "\n",
    "\n",
    "        if no_index(1,len(R)-1,t,Qs[(Qs.ID==s)].iloc[0],R)==False:\n",
    "            table=table.append(pd.Series(t,index=table.columns),ignore_index=True)\n",
    "    return table.drop('dummy',axis=1)"
   ]
  },
  {
   "cell_type": "code",
   "execution_count": 2,
   "metadata": {},
   "outputs": [],
   "source": [
    "\n",
    "def remove_race(race1,race2): #race_set(r,Q)=race_set(r,Q)-race_set(r,V)\n",
    "    for key1 in race1.keys():\n",
    "        try:\n",
    "            dup=list(set(race1[key1] + race2[key1]))\n",
    "            print(dup)\n",
    "            for index in range(len(dup)):\n",
    "                race1[key1].remove(dup[index])\n",
    "        except Exception as e:\n",
    "            print(e)\n",
    "            continue\n",
    "    return race1\n",
    "\n",
    "\n",
    "variants=''\n",
    "V=[]\n",
    "#variants=GenerateVariants(Q,V0)\n",
    "\n",
    "#race_set[0]={'r1':['s2'],'r2':[],'r3':['s4'],'r4':[]}\n",
    "#race_set[1]={'r1':['s2'],'r2':[],'r3':['s4'],'r4':[]}\n",
    "\n",
    "#while !variants:\n",
    "    "
   ]
  },
  {
   "cell_type": "code",
   "execution_count": 3,
   "metadata": {},
   "outputs": [
    {
     "name": "stderr",
     "output_type": "stream",
     "text": [
      "100%|██████████| 3/3 [00:00<00:00, 10.99it/s]"
     ]
    },
    {
     "name": "stdout",
     "output_type": "stream",
     "text": [
      "The number of Test Case is 4\n"
     ]
    },
    {
     "name": "stderr",
     "output_type": "stream",
     "text": [
      "\n"
     ]
    }
   ],
   "source": [
    "#============ここから定義============\n",
    "\n",
    "number=0 # 実験の回数\n",
    "heading_res=('Thread','Port','Event','Index')\n",
    "heading_snd=('Thread','Port','Event','Index')\n",
    "\n",
    "Qs=[pd.DataFrame({})]\n",
    "Qr=[pd.DataFrame({})]\n",
    "\n",
    "\n",
    "#Q is SYN-sequence\n",
    "Qr[0]=pd.read_csv('SYN-res.csv',names=heading_res)\n",
    "Qs[0]=pd.read_csv('SYN-snd.csv',names=heading_snd)\n",
    "\n",
    "\n",
    "r_list=list(range(1,len(Qr[0])+1))\n",
    "r_list=list(map(lambda x:'r'+str(x),r_list)) #['r1', 'r2', 'r3', 'r4']\n",
    "s_list=list(range(1,len(Qs[0])+1))\n",
    "s_list=list(map(lambda x:'s'+str(x),s_list)) #['s1', 's2', 's3', 's4']\n",
    "\n",
    "Qr[0].insert(0,'ID',r_list) #attach the name of event\n",
    "Qs[0].insert(0,'ID',s_list) #attach the name of event\n",
    "\n",
    "Qr[0]['coler']='white'\n",
    "\n",
    "Q=[pd.DataFrame({})] #Q is SYN-sequence\n",
    "Q[0]=pd.merge(Qr[0],Qs[0],how='outer')\n",
    "\n",
    "race_set=[]\n",
    "race_set.append({'r1':['s2'],'r2':[],'r3':['s4'],'r4':[]})\n",
    "#race_set[1]={'r1':['s2'],'r2':[],'r3':['s4'],'r4':[]}\n",
    "\n",
    "r_list=[]\n",
    "s_list=[]\n",
    "check_digit=0\n",
    "\n",
    "for i in range(0,len(Qr[0])):\n",
    "    r_list.append(cstruct(Qr[0].iloc[i],[]))\n",
    "    s_list.append(cstruct(Qs[0].iloc[i],[]))\n",
    "#r_list.extend(s_list)\n",
    "Q_unique=pd.DataFrame({})\n",
    "Qr_unique=Qr[0].copy()\n",
    "Qs_unique=Qs[0].copy()\n",
    "Qr_unique.insert(len(Qr_unique.columns),'cstruct',r_list)\n",
    "Qs_unique.insert(len(Qs_unique.columns),'cstruct',s_list)\n",
    "#Q_unique=pd.merge(Qr_unique,Qs_unique,how='outer')\n",
    "#Q_unique.insert(len(Qs_unique.columns),'cstruct',r_list) #保存するようのテーブル\n",
    "\n",
    "#============ここまで定義============\n",
    "r_last_index=len(Qr_unique)+1 #それぞれの新しいインデックスを付与するための変数→初期化\n",
    "s_last_index=len(Qs_unique)+1 #+1で新しいindexをそのまま付与\n",
    "\n",
    "def cstruct_check(df):\n",
    "    global number\n",
    "    global Qs\n",
    "    global Qr\n",
    "    global Q\n",
    "    global r_last_index\n",
    "    global s_last_index\n",
    "        \n",
    "    for index,row in Qr[number+1].iterrows():\n",
    "        ##ここからはrの処理\n",
    "        results=[]\n",
    "        results=cstruct(Qr[number+1].iloc[index],[])\n",
    "        judge=False\n",
    "\n",
    "        if results: #空だったらnot \n",
    "            for index2,row2 in df.iterrows():\n",
    "                if results==df.at[index2,'cstruct']:\n",
    "                    new_index=index2\n",
    "                    judge=True\n",
    "                    break\n",
    "            # Trueだったら被りあり　Falseだったら被りなし\n",
    "\n",
    "            #共通部分の処理\n",
    "            if not judge: #Falseだったら判定\n",
    "                Qr[number+1].at[index,'ID']='r'+str(r_last_index)\n",
    "                #Qr[number+1].at[index,'cstruct']=results\n",
    "                r_last_index+=1\n",
    "                temp=list(Qr[number+1].iloc[index])\n",
    "                temp.append(results)\n",
    "                temp=pd.Series(temp,index=Qr_temp.columns,name=len(df))\n",
    "                df.loc[len(df)]=temp\n",
    "                print(df)\n",
    "            else:\n",
    "                Qr[number+1].iloc[index]=df.iloc[new_index]\n",
    "        else: #空だったらなにもしない\n",
    "            pass\n",
    "        '''\n",
    "        ##ここからはsの処理\n",
    "        results=[]\n",
    "        results=cstruct(Qs[number+1].iloc[index],[])\n",
    "        if results: #空だったらnot \n",
    "            for index2,row2 in Qs_unique.iterrows():\n",
    "                if results==Qs_unique.at[index2,'cstruct']:\n",
    "                    new_index=index2\n",
    "                    judge=True\n",
    "                    break\n",
    "            # Trueだったら被りあり　Falseだったら被りなし\n",
    "            \n",
    "            #共通部分の処理\n",
    "            if not judge: #Falseだったら判定\n",
    "                Qs[number+1].at[index,'ID']='s'+str(s_last_index)\n",
    "                #Qs[number+1].at[index,'cstruct']=results\n",
    "                s_last_index+=1\n",
    "                temp=list(Qs[number+1].iloc[index])\n",
    "                temp.append(results)\n",
    "                temp=pd.Series(temp,index=Qs_unique.columns,name=len(Qs_unique))\n",
    "                Qs_unique.append(temp)\n",
    "            else:\n",
    "                Qs[number+1].iloc[index]=Qs_unique.iloc[new_index]\n",
    "        else: #空だったらなにもしない\n",
    "            pass\n",
    "        return (Qr_unique,Qs_unique)\n",
    "        '''\n",
    "        return df\n",
    "\n",
    "\n",
    "#def Generatevariants(Q,number):\n",
    "#race_set[0]=remove_race(race_set[0],race_set[0])\n",
    "table=construct_race_table(Q[0],Qs[0],Qr[0],race_set[0])\n",
    "columns=list(table.columns)\n",
    "check_digit=1\n",
    "\n",
    "\n",
    "for number in tqdm(range(0,len(table))):\n",
    "    Q.append(pd.DataFrame({})) #新しいテーブルを作成\n",
    "    Qs.append(pd.DataFrame({}))\n",
    "    Qr.append(pd.DataFrame({}))\n",
    "    Q[number+1]=Q[0].copy()\n",
    "    Qs[number+1]=Qs[0].copy()\n",
    "    Qr[number+1]=Qr[0].copy()\n",
    "    for key in range(0,len(columns)): # 列方向のループr1→r3\n",
    "        if table.iloc[number][columns[key]]>0: #race_set の交換\n",
    "            #print(columns[key])\n",
    "            #Q[i+1]のテーブルを修正\n",
    "            change_event=Qr[number+1][Qr[number+1]['ID']==columns[key]].iloc[0].ID # receiveの交換するやつr3\n",
    "            change_event_number=Qr[number+1][Qr[number+1]['ID']==columns[key]].iloc[0].name #r3の行番号→2\n",
    "            new_partner=race_set[0][Q[number+1][Q[number+1]['ID']==columns[key]].iloc[0].ID][int(table.iloc[number][columns[key]])-1] #sendの新しいパートナー s4\n",
    "            new_partner_number=Qs[number+1][Qs[number+1]['ID']==new_partner].iloc[0].name #s4の行番号→3\n",
    "            \n",
    "            \n",
    "            ## QSのindexを振りなおす処理\n",
    "            new_index=[]\n",
    "            for j in range(0,len(Qr[number+1])):\n",
    "                if j==change_event_number:\n",
    "                    new_index.append(new_partner_number)\n",
    "                elif j==new_partner_number:\n",
    "                    new_index.append(change_event_number)\n",
    "                else:\n",
    "                    new_index.append(j)\n",
    "\n",
    "            Qs[number+1]['new_index']=new_index\n",
    "            Qs[number+1]=Qs[number+1].set_index('new_index')\n",
    "            Qs[number+1].sort_index(inplace=True)\n",
    "            \n",
    "            Q[number+1]=pd.merge(Qr[number+1],Qs[number+1],how='outer')\n",
    "            \n",
    "            #==========Qrの重複追加作業=================\n",
    "            \n",
    "            for index,row in Qr[number+1].iterrows():\n",
    "                results=cstruct(Qr[number+1].iloc[index],[])\n",
    "                judge=False\n",
    "                if results: #空だったらnot \n",
    "                    for index2,row2 in Qr_unique.iterrows():\n",
    "                        if results==Qr_unique.at[index2,'cstruct']:\n",
    "                            new_index=index2\n",
    "                            judge=True\n",
    "                            break\n",
    "                    if not judge: #Falseだったら判定\n",
    "                        Qr[number+1].at[index,'ID']='r'+str(r_last_index)\n",
    "                        #Qr[number+1].at[index,'cstruct']=results\n",
    "                        r_last_index+=1\n",
    "                        temp=list(Qr[number+1].iloc[index])\n",
    "                        temp.append(results)\n",
    "                        temp=pd.Series(temp,index=Qr_unique.columns,name=len(Qr_unique))\n",
    "                        #temp=pd.DataFrame(,columns=Qr_unique.columns)\n",
    "                        #Qr_unique.append(temp,ignore_index=False)\n",
    "                        #pd.concat([Qr_unique,temp],axis=0)\n",
    "                        Qr_unique.loc[len(Qr_unique)]=temp\n",
    "                    else:\n",
    "                        Qr[number+1].iloc[index]=Qr_unique.iloc[new_index]\n",
    "                else:\n",
    "                    pass\n",
    "            \n",
    "            #==========Qsの重複追加作業=================\n",
    "            \n",
    "            \n",
    "            for index,row in Qs[number+1].iterrows():\n",
    "                results=cstruct(Qs[number+1].iloc[index],[])\n",
    "                judge=False\n",
    "                if results: #空だったらnot \n",
    "                    for index2,row2 in Qs_unique.iterrows():\n",
    "                        if results==Qs_unique.at[index2,'cstruct']:\n",
    "                            new_index=index2\n",
    "                            judge=True\n",
    "                            break\n",
    "                    if not judge: #Falseだったら判定\n",
    "                        Qs[number+1].at[index,'ID']='s'+str(s_last_index)\n",
    "                        #Qr[number+1].at[index,'cstruct']=results\n",
    "                        s_last_index+=1\n",
    "                        temp=list(Qs[number+1].iloc[index])\n",
    "                        temp.append(results)\n",
    "                        temp=pd.Series(temp,index=Qs_unique.columns,name=len(Qs_unique))\n",
    "                        #temp=pd.DataFrame(,columns=Qr_unique.columns)\n",
    "                        #Qr_unique.append(temp,ignore_index=False)\n",
    "                        #pd.concat([Qr_unique,temp],axis=0)\n",
    "                        Qs_unique.loc[len(Qs_unique)]=temp\n",
    "                    else:\n",
    "                        Qs[number+1].iloc[index]=Qs_unique.iloc[new_index]\n",
    "                else:\n",
    "                    pass\n",
    "                 \n",
    "                \n",
    "            #Qr_unique.append(cstruct_results[0],ignore_index=True) # 戻り値を既存の表に追加\n",
    "            #Qs_unique.append(cstruct_results[1],ignore_index=True)\n",
    "            \n",
    "            Q[number+1]=pd.merge(Qr[number+1],Qs[number+1],how='outer')\n",
    "\n",
    "print('The number of Test Case is {}'.format(len(Q)))"
   ]
  },
  {
   "cell_type": "code",
   "execution_count": 4,
   "metadata": {},
   "outputs": [
    {
     "data": {
      "text/plain": [
       "str"
      ]
     },
     "execution_count": 4,
     "metadata": {},
     "output_type": "execute_result"
    }
   ],
   "source": [
    "type(Qr[0].iloc[0].Port)"
   ]
  },
  {
   "cell_type": "code",
   "execution_count": 5,
   "metadata": {},
   "outputs": [
    {
     "ename": "IndentationError",
     "evalue": "expected an indented block (<ipython-input-5-1f23f181295e>, line 24)",
     "output_type": "error",
     "traceback": [
      "\u001b[1;36m  File \u001b[1;32m\"<ipython-input-5-1f23f181295e>\"\u001b[1;36m, line \u001b[1;32m24\u001b[0m\n\u001b[1;33m    race_set['r1'].append('r2') #ここはサンプル\u001b[0m\n\u001b[1;37m    ^\u001b[0m\n\u001b[1;31mIndentationError\u001b[0m\u001b[1;31m:\u001b[0m expected an indented block\n"
     ]
    }
   ],
   "source": [
    "race_set={}\n",
    "\n",
    "def str_to_list(string):\n",
    "    l=string.split(',')\n",
    "    list=[]\n",
    "    for i in range(len(l)):\n",
    "    if i==0:\n",
    "        if len(l)==1:\n",
    "            list.append(l[i][1:len(l[i])-1])\n",
    "        else:\n",
    "            list.append(l[i][1:])\n",
    "    elif i==len(l)-1:\n",
    "        list.append(l[i][:len(l[i])-1])\n",
    "    else:\n",
    "        list.append(l[i])\n",
    "    return list\n",
    "\n",
    "def creating_race_set(race_set):\n",
    "    global Qr\n",
    "    global Qs\n",
    "    # race_set の初期化\n",
    "    for i in range(len(Qr[0])):\n",
    "        race_set[Qr[0].iloc[i].ID]=[]\n",
    "    for i in range(len(Qs[0])):\n",
    "        number=Qs[0].iloc[i].name\n",
    "        ID=Qs[0].iloc[i].ID\n",
    "        thread=Qs[0].iloc[i].Thread\n",
    "        port=Qs[0].iloc[i].Port\n",
    "        \n",
    "        pair_event=Qr[0].iloc[number]\n",
    "        try: #rの次のイベントがrかどうか判定\n",
    "            next_event=Qr[0][Qr[0].Index==pair_event.Index+1].iloc[0]\n",
    "        except:\n",
    "            continue\n",
    "        \n",
    "        #これ以降はrの次がrだったとき\n",
    "        if port in str_to_list(next_event.Port):#ポートが一致    \n",
    "            # race_setについか\n",
    "            race_set['r1'].append('r2') #ここはサンプル\n",
    "    return race_set"
   ]
  },
  {
   "cell_type": "code",
   "execution_count": 6,
   "metadata": {},
   "outputs": [
    {
     "ename": "NameError",
     "evalue": "name 'creating_race_set' is not defined",
     "output_type": "error",
     "traceback": [
      "\u001b[1;31m---------------------------------------------------------------------------\u001b[0m",
      "\u001b[1;31mNameError\u001b[0m                                 Traceback (most recent call last)",
      "\u001b[1;32m<ipython-input-6-8e4f956871b1>\u001b[0m in \u001b[0;36m<module>\u001b[1;34m\u001b[0m\n\u001b[0;32m      1\u001b[0m \u001b[0mrace_set\u001b[0m\u001b[1;33m=\u001b[0m\u001b[1;33m{\u001b[0m\u001b[1;33m}\u001b[0m\u001b[1;33m\u001b[0m\u001b[1;33m\u001b[0m\u001b[0m\n\u001b[1;32m----> 2\u001b[1;33m \u001b[0mrace_set\u001b[0m\u001b[1;33m=\u001b[0m\u001b[0mcreating_race_set\u001b[0m\u001b[1;33m(\u001b[0m\u001b[0mrace_set\u001b[0m\u001b[1;33m)\u001b[0m\u001b[1;33m\u001b[0m\u001b[1;33m\u001b[0m\u001b[0m\n\u001b[0m\u001b[0;32m      3\u001b[0m \u001b[0mrace_set\u001b[0m\u001b[1;33m\u001b[0m\u001b[1;33m\u001b[0m\u001b[0m\n",
      "\u001b[1;31mNameError\u001b[0m: name 'creating_race_set' is not defined"
     ]
    }
   ],
   "source": [
    "race_set={}\n",
    "race_set=creating_race_set(race_set)\n",
    "race_set"
   ]
  },
  {
   "cell_type": "code",
   "execution_count": 8,
   "metadata": {},
   "outputs": [
    {
     "data": {
      "text/plain": [
       "'[p2]'"
      ]
     },
     "execution_count": 8,
     "metadata": {},
     "output_type": "execute_result"
    }
   ],
   "source": [
    "Qr[0].iloc[0].Po"
   ]
  },
  {
   "cell_type": "code",
   "execution_count": 47,
   "metadata": {},
   "outputs": [
    {
     "name": "stdout",
     "output_type": "stream",
     "text": [
      "<re.Match object; span=(0, 7), match='[ss,22]'>\n"
     ]
    }
   ],
   "source": [
    "import re\n",
    "temp_port=re.search(r'\\[(.*)\\]','[ss]')\n",
    "temp=re.search(r'.*(,*).*','[ss,22]')\n",
    "print(temp)"
   ]
  },
  {
   "cell_type": "code",
   "execution_count": 77,
   "metadata": {},
   "outputs": [
    {
     "data": {
      "text/plain": [
       "['[ss]']"
      ]
     },
     "execution_count": 77,
     "metadata": {},
     "output_type": "execute_result"
    }
   ],
   "source": [
    "o='[ss]'\n",
    "l=o.split(',')\n",
    "l"
   ]
  },
  {
   "cell_type": "code",
   "execution_count": 79,
   "metadata": {},
   "outputs": [
    {
     "data": {
      "text/plain": [
       "['ss']"
      ]
     },
     "execution_count": 79,
     "metadata": {},
     "output_type": "execute_result"
    }
   ],
   "source": [
    "\n",
    "list=[]\n",
    "for i in range(len(l)):\n",
    "    if i==0:\n",
    "        if len(l)==1:\n",
    "            list.append(l[i][1:len(l[i])-1])\n",
    "        else:\n",
    "            list.append(l[i][1:])\n",
    "    elif i==len(l)-1:\n",
    "        list.append(l[i][:len(l[i])-1])\n",
    "    else:\n",
    "        list.append(l[i])\n",
    "list"
   ]
  },
  {
   "cell_type": "code",
   "execution_count": 37,
   "metadata": {},
   "outputs": [],
   "source": [
    "index_list=[]\n",
    "for i in range(0,len(Qs)):\n",
    "    if i==Qr[i+1][Qr[i+1]['ID']==columns[key]].iloc[0].name:\n",
    "        list.append(Qs[i+1][Qs[i+1].ID==race_set[0][Qr[i+1][Q[i+1]['ID']==columns[key]].iloc[0].ID][int(table.iloc[i][columns[key]])-1]].ID)\n",
    "    else if Qs[i+1][Qs[i+1].ID==race_set[0][Qr[i+1][Q[i+1]['ID']==columns[key]].iloc[0].ID][int(table.iloc[i][columns[key]])-1]].ID"
   ]
  },
  {
   "cell_type": "code",
   "execution_count": 43,
   "metadata": {},
   "outputs": [
    {
     "data": {
      "text/plain": [
       "[   ID Thread  Port  Index  coler Event\n",
       " 0  r1     T2  {p2}      1  white   NaN\n",
       " 1  r2     T2  {p2}      2  white   NaN\n",
       " 2  r3     T3  {p3}      1  white   NaN\n",
       " 3  r4     T3  {p3}      2  white   NaN\n",
       " 4  s1     T1  {p2}      1    NaN  send\n",
       " 5  s2     T4  {p2}      1    NaN  send\n",
       " 6  s3     T2  {p3}      3    NaN  send\n",
       " 7  s4     T4  {p3}      2    NaN  send]"
      ]
     },
     "execution_count": 43,
     "metadata": {},
     "output_type": "execute_result"
    }
   ],
   "source": [
    "Q"
   ]
  },
  {
   "cell_type": "code",
   "execution_count": null,
   "metadata": {},
   "outputs": [],
   "source": []
  }
 ],
 "metadata": {
  "kernelspec": {
   "display_name": "Python 3",
   "language": "python",
   "name": "python3"
  },
  "language_info": {
   "codemirror_mode": {
    "name": "ipython",
    "version": 3
   },
   "file_extension": ".py",
   "mimetype": "text/x-python",
   "name": "python",
   "nbconvert_exporter": "python",
   "pygments_lexer": "ipython3",
   "version": "3.7.7"
  }
 },
 "nbformat": 4,
 "nbformat_minor": 4
}
