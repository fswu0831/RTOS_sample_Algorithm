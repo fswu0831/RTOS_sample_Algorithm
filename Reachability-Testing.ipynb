{
 "cells": [
  {
   "cell_type": "code",
   "execution_count": 2,
   "metadata": {},
   "outputs": [],
   "source": [
    "import pandas as pd\n",
    "import numpy as np\n",
    "from tqdm import tqdm\n",
    "import re\n",
    "\n",
    "def cstruct(event,results):\n",
    "    global Q\n",
    "    global Qs\n",
    "\n",
    "    thread=event['Thread']\n",
    "    index=event['Index']\n",
    "       \n",
    "    if index==1:\n",
    "        return ''\n",
    "    for i in range(index-1,0,-1):\n",
    "        temp=Q[0][(Q[0].Thread == thread) & (Q[0].Index==i)].iloc[0]\n",
    "        if temp['Event']=='send':\n",
    "            results.append(temp['ID'])\n",
    "            event=temp\n",
    "            results.extend(cstruct(event,results))\n",
    "        else:\n",
    "            results.append(temp['ID'])\n",
    "            send=Qs[0].loc[temp.name]\n",
    "            results.append(send['ID'])\n",
    "            results.extend(cstruct(send,results))\n",
    "    return list(set(results))\n",
    "    \n",
    "def no_index(start,finish,t,event,R):\n",
    "    #if type(event)==int:\n",
    "    #    event=Qr[(Qr.ID==R[finish])].iloc[0]\n",
    "    for l in range(start,finish):\n",
    "        if t[l]>0 and R[l] in cstruct(event,[]):\n",
    "            return True\n",
    "        else:\n",
    "            continue\n",
    "    return False\n",
    "\n",
    "    \n",
    "\n",
    "def construct_race_table(Q,Qs,Qr,race_set):\n",
    "    R=[] #create race_set\n",
    "    D=[] #number of race_set\n",
    "    heading=[] #{r1,r2,....r}\n",
    "\n",
    "    R.append('')\n",
    "    D.append('')\n",
    "    heading.append('dummy')\n",
    "    # set R,D\n",
    "    for key in race_set.keys():\n",
    "        if len(race_set[key])>0 and Q[Q['ID']==key].iloc[0].coler=='white':\n",
    "            R.append(key) # raceのあるイベントを追加\n",
    "            D.append(len(race_set[key])) #raceの数を追加\n",
    "            heading.append(key) # r\n",
    "    table=pd.DataFrame([],columns=heading)\n",
    "\n",
    "    t=np.zeros(len(R)) #raceの数分の配列 #t[0]はダミー\n",
    "\n",
    "    while True:\n",
    "\n",
    "        results=[]\n",
    "\n",
    "        max_index=''\n",
    "        for i in range(len(t)-1,0,-1):\n",
    "            if t[i]<D[i] and t[i]!=-1:\n",
    "                max_index=i\n",
    "                break\n",
    "        if max_index=='':\n",
    "            break\n",
    "        t[i]+=1\n",
    "\n",
    "        if t[i]==1: #just changed t[i] from 0 to 1\n",
    "\n",
    "            for j in tqdm(range(i+1,len(R))):\n",
    "                if t[j]!=-1 and (Qr[Qr.ID==R[i]].iloc[0].ID in cstruct(Qr[Qr.ID==R[j]].iloc[0],[])):\n",
    "\n",
    "                    t[j]=-1\n",
    "\n",
    "        for j in tqdm(range(i+1,len(R))):\n",
    "            if(t[j]==D[j]):\n",
    "                t[j]=0 #just change t[j] from dj to 0\n",
    "\n",
    "                for k in tqdm(range(j+1,len(R))):\n",
    "                    if t[k]==-1 and Qr[Qr.ID==R[j]].iloc[0].ID in cstruct(Qr[Qr.ID==R[k]].iloc[0],[]) and no_index(1,k,t,Qr[(Qr.ID==R[k])].iloc[0],R):\n",
    "                        t[k]=0\n",
    "        #let s be the t[i] sending event in race_set(ri)\n",
    "        s= race_set[R[i]][int(t[i])-1] \n",
    "\n",
    "\n",
    "        if no_index(1,len(R)-1,t,Qs[(Qs.ID==s)].iloc[0],R)==False:\n",
    "            table=table.append(pd.Series(t,index=table.columns),ignore_index=True)\n",
    "    return table.drop('dummy',axis=1)"
   ]
  },
  {
   "cell_type": "code",
   "execution_count": 3,
   "metadata": {},
   "outputs": [
    {
     "ename": "NameError",
     "evalue": "name 'race_set' is not defined",
     "output_type": "error",
     "traceback": [
      "\u001b[1;31m---------------------------------------------------------------------------\u001b[0m",
      "\u001b[1;31mNameError\u001b[0m                                 Traceback (most recent call last)",
      "\u001b[1;32m<ipython-input-3-fa674472981a>\u001b[0m in \u001b[0;36m<module>\u001b[1;34m\u001b[0m\n\u001b[0;32m     16\u001b[0m \u001b[1;31m#variants=GenerateVariants(Q,V0)\u001b[0m\u001b[1;33m\u001b[0m\u001b[1;33m\u001b[0m\u001b[1;33m\u001b[0m\u001b[0m\n\u001b[0;32m     17\u001b[0m \u001b[1;33m\u001b[0m\u001b[0m\n\u001b[1;32m---> 18\u001b[1;33m \u001b[0mrace_set\u001b[0m\u001b[1;33m[\u001b[0m\u001b[1;36m0\u001b[0m\u001b[1;33m]\u001b[0m\u001b[1;33m=\u001b[0m\u001b[1;33m{\u001b[0m\u001b[1;34m'r1'\u001b[0m\u001b[1;33m:\u001b[0m\u001b[1;33m[\u001b[0m\u001b[1;34m's2'\u001b[0m\u001b[1;33m]\u001b[0m\u001b[1;33m,\u001b[0m\u001b[1;34m'r2'\u001b[0m\u001b[1;33m:\u001b[0m\u001b[1;33m[\u001b[0m\u001b[1;33m]\u001b[0m\u001b[1;33m,\u001b[0m\u001b[1;34m'r3'\u001b[0m\u001b[1;33m:\u001b[0m\u001b[1;33m[\u001b[0m\u001b[1;34m's4'\u001b[0m\u001b[1;33m]\u001b[0m\u001b[1;33m,\u001b[0m\u001b[1;34m'r4'\u001b[0m\u001b[1;33m:\u001b[0m\u001b[1;33m[\u001b[0m\u001b[1;33m]\u001b[0m\u001b[1;33m}\u001b[0m\u001b[1;33m\u001b[0m\u001b[1;33m\u001b[0m\u001b[0m\n\u001b[0m\u001b[0;32m     19\u001b[0m \u001b[0mrace_set\u001b[0m\u001b[1;33m[\u001b[0m\u001b[1;36m1\u001b[0m\u001b[1;33m]\u001b[0m\u001b[1;33m=\u001b[0m\u001b[1;33m{\u001b[0m\u001b[1;34m'r1'\u001b[0m\u001b[1;33m:\u001b[0m\u001b[1;33m[\u001b[0m\u001b[1;34m's2'\u001b[0m\u001b[1;33m]\u001b[0m\u001b[1;33m,\u001b[0m\u001b[1;34m'r2'\u001b[0m\u001b[1;33m:\u001b[0m\u001b[1;33m[\u001b[0m\u001b[1;33m]\u001b[0m\u001b[1;33m,\u001b[0m\u001b[1;34m'r3'\u001b[0m\u001b[1;33m:\u001b[0m\u001b[1;33m[\u001b[0m\u001b[1;34m's4'\u001b[0m\u001b[1;33m]\u001b[0m\u001b[1;33m,\u001b[0m\u001b[1;34m'r4'\u001b[0m\u001b[1;33m:\u001b[0m\u001b[1;33m[\u001b[0m\u001b[1;33m]\u001b[0m\u001b[1;33m}\u001b[0m\u001b[1;33m\u001b[0m\u001b[1;33m\u001b[0m\u001b[0m\n\u001b[0;32m     20\u001b[0m \u001b[1;33m\u001b[0m\u001b[0m\n",
      "\u001b[1;31mNameError\u001b[0m: name 'race_set' is not defined"
     ]
    }
   ],
   "source": [
    "\n",
    "def remove_race(race1,race2): #race_set(r,Q)=race_set(r,Q)-race_set(r,V)\n",
    "    for key1 in race1.keys():\n",
    "        try:\n",
    "            dup=list(set(race1[key1] + race2[key1]))\n",
    "            print(dup)\n",
    "            for index in range(len(dup)):\n",
    "                race1[key1].remove(dup[index])\n",
    "        except Exception as e:\n",
    "            print(e)\n",
    "            continue\n",
    "    return race1\n",
    "\n",
    "\n",
    "variants=''\n",
    "V=[]\n",
    "#variants=GenerateVariants(Q,V0)\n",
    "\n",
    "race_set[0]={'r1':['s2'],'r2':[],'r3':['s4'],'r4':[]}\n",
    "race_set[1]={'r1':['s2'],'r2':[],'r3':['s4'],'r4':[]}\n",
    "\n",
    "#while !variants:\n",
    "    "
   ]
  },
  {
   "cell_type": "code",
   "execution_count": 64,
   "metadata": {},
   "outputs": [
    {
     "name": "stderr",
     "output_type": "stream",
     "text": [
      "0it [00:00, ?it/s]\n",
      "0it [00:00, ?it/s]\n",
      "100%|██████████| 1/1 [00:00<00:00, 200.65it/s]\n",
      "  0%|          | 0/1 [00:00<?, ?it/s]\n",
      "0it [00:00, ?it/s]\u001b[A\n",
      "100%|██████████| 1/1 [00:00<00:00, 200.53it/s]\n",
      "0it [00:00, ?it/s]\n",
      "0it [00:00, ?it/s]\n"
     ]
    },
    {
     "name": "stdout",
     "output_type": "stream",
     "text": [
      "r3\n",
      "   ID Thread  Port  Index  coler Event\n",
      "0  r1     T2  {p2}      1  white   NaN\n",
      "1  r2     T2  {p2}      2  white   NaN\n",
      "2  r3     T3  {p3}      1  white   NaN\n",
      "3  r5     T3  {p3}      2  white   NaN\n",
      "4  s1     T1  {p2}      1    NaN  send\n",
      "5  s2     T4  {p2}      1    NaN  send\n",
      "6  s4     T4  {p3}      2    NaN  send\n",
      "7  s3     T2  {p3}      3    NaN  send\n",
      "r1\n",
      "   ID Thread  Port  Index  coler Event\n",
      "0  r1     T2  {p2}      1  white   NaN\n",
      "1  r6     T2  {p2}      2  white   NaN\n",
      "2  r3     T3  {p3}      1  white   NaN\n",
      "3  r5     T3  {p3}      2  white   NaN\n",
      "4  s2     T4  {p2}      1    NaN  send\n",
      "5  s1     T1  {p2}      1    NaN  send\n",
      "6  s3     T2  {p3}      3    NaN  send\n",
      "7  s4     T4  {p3}      2    NaN  send\n",
      "r1\n",
      "   ID Thread  Port  Index  coler Event\n",
      "0  r1     T2  {p2}      1  white   NaN\n",
      "1  r7     T2  {p2}      2  white   NaN\n",
      "2  r3     T3  {p3}      1  white   NaN\n",
      "3  r5     T3  {p3}      2  white   NaN\n",
      "4  s2     T4  {p2}      1    NaN  send\n",
      "5  s1     T1  {p2}      1    NaN  send\n",
      "6  s3     T2  {p3}      3    NaN  send\n",
      "7  s4     T4  {p3}      2    NaN  send\n",
      "r3\n",
      "   ID Thread  Port  Index  coler Event\n",
      "0  r1     T2  {p2}      1  white   NaN\n",
      "1  r7     T2  {p2}      2  white   NaN\n",
      "2  r3     T3  {p3}      1  white   NaN\n",
      "3  r7     T3  {p3}      2  white   NaN\n",
      "4  s2     T4  {p2}      1    NaN  send\n",
      "5  s1     T1  {p2}      1    NaN  send\n",
      "6  s4     T4  {p3}      2    NaN  send\n",
      "7  s3     T2  {p3}      3    NaN  send\n"
     ]
    }
   ],
   "source": [
    "#============ここから定義============\n",
    "    \n",
    "heading_res=('Thread','Port','Index')\n",
    "heading_snd=('Thread','Port','Event','Index')\n",
    "\n",
    "Qs=[pd.DataFrame({})]\n",
    "Qr=[pd.DataFrame({})]\n",
    "#Q is SYN-sequence\n",
    "Qr[0]=pd.read_csv('SYN-res.csv',names=heading_res)\n",
    "Qs[0]=pd.read_csv('SYN-snd.csv',names=heading_snd)\n",
    "\n",
    "\n",
    "r_list=list(range(1,len(Qr[0])+1))\n",
    "r_list=list(map(lambda x:'r'+str(x),r_list)) #['r1', 'r2', 'r3', 'r4']\n",
    "s_list=list(range(1,len(Qs[0])+1))\n",
    "s_list=list(map(lambda x:'s'+str(x),s_list)) #['s1', 's2', 's3', 's4']\n",
    "\n",
    "Qr[0].insert(0,'ID',r_list) #attach the name of event\n",
    "Qs[0].insert(0,'ID',s_list) #attach the name of event\n",
    "\n",
    "Qr[0]['coler']='white'\n",
    "\n",
    "Q=[pd.DataFrame({})] #Q is SYN-sequence\n",
    "Q[0]=pd.merge(Qr[0],Qs[0],how='outer')\n",
    "\n",
    "race_set=[]\n",
    "race_set.append({'r1':['s2'],'r2':[],'r3':['s4'],'r4':[]})\n",
    "#race_set[1]={'r1':['s2'],'r2':[],'r3':['s4'],'r4':[]}\n",
    "\n",
    "#============ここまで定義============\n",
    "\n",
    "\n",
    "#def Generatevariants(Q,number):\n",
    "#race_set[0]=remove_race(race_set[0],race_set[0])\n",
    "table=construct_race_table(Q[0],Qs[0],Qr[0],race_set[0])\n",
    "columns=list(table.columns)\n",
    "for i in range(0,len(table)):\n",
    "    Q.append(Q[0]) #新しいテーブルを作成\n",
    "    Qs.append(Qs[0])\n",
    "    Qr.append(Qr[0])\n",
    "    for key in range(0,len(columns)): # 列方向のループr1→r3\n",
    "        if table.iloc[i][columns[key]]>0: #race_set の交換\n",
    "            print(columns[key])\n",
    "            #Q[i+1]のテーブルを修正\n",
    "            change_event=Qr[i+1][Qr[i+1]['ID']==columns[key]].iloc[0].ID # receive\n",
    "            change_event_number=Qr[i+1][Qr[i+1]['ID']==columns[key]].iloc[0].name\n",
    "            new_partner=race_set[0][Q[i+1][Q[i+1]['ID']==columns[key]].iloc[0].ID][int(table.iloc[i][columns[key]])-1] #send\n",
    "            new_partner_number=Qs[i+1][Qs[i+1]['ID']==new_partner].iloc[0].name\n",
    "            \n",
    "            ## QSのindexを振りなおす処理\n",
    "            new_index=[]\n",
    "            for j in range(0,len(Qr[i+1])):\n",
    "                if j==change_event_number:\n",
    "                    new_index.append(new_partner_number)\n",
    "                elif j==new_partner_number:\n",
    "                    new_index.append(change_event_number)\n",
    "                else:\n",
    "                    new_index.append(j)\n",
    "\n",
    "            Qs[i+1]['new_index']=new_index\n",
    "            Qs[i+1]=Qs[i+1].set_index('new_index')\n",
    "            Qs[i+1].sort_index(inplace=True)\n",
    "            \n",
    "            ##Qrのindexを振りなおす処理\n",
    "            # r len(Qr)+i+1を作成\n",
    "            Qr[i+1].at[new_partner_number,'ID']='r'+str(len(Qr[i+1])+i+1)\n",
    "            \n",
    "            Q[i+1]=pd.merge(Qr[i+1],Qs[i+1],how='outer')\n",
    "            print(Q[i+1])"
   ]
  },
  {
   "cell_type": "code",
   "execution_count": 59,
   "metadata": {},
   "outputs": [
    {
     "data": {
      "text/plain": [
       "[   ID Thread  Port  Index  coler\n",
       " 0  r1     T2  {p2}      1  white\n",
       " 1  r2     T2  {p2}      2  white\n",
       " 2  r3     T3  {p3}      1  white\n",
       " 3  r5     T3  {p3}      2  white,\n",
       "    ID Thread  Port  Index  coler\n",
       " 0  r1     T2  {p2}      1  white\n",
       " 1  r2     T2  {p2}      2  white\n",
       " 2  r3     T3  {p3}      1  white\n",
       " 3  r5     T3  {p3}      2  white]"
      ]
     },
     "execution_count": 59,
     "metadata": {},
     "output_type": "execute_result"
    }
   ],
   "source": [
    "Qr"
   ]
  },
  {
   "cell_type": "code",
   "execution_count": 43,
   "metadata": {},
   "outputs": [
    {
     "data": {
      "text/html": [
       "<div>\n",
       "<style scoped>\n",
       "    .dataframe tbody tr th:only-of-type {\n",
       "        vertical-align: middle;\n",
       "    }\n",
       "\n",
       "    .dataframe tbody tr th {\n",
       "        vertical-align: top;\n",
       "    }\n",
       "\n",
       "    .dataframe thead th {\n",
       "        text-align: right;\n",
       "    }\n",
       "</style>\n",
       "<table border=\"1\" class=\"dataframe\">\n",
       "  <thead>\n",
       "    <tr style=\"text-align: right;\">\n",
       "      <th></th>\n",
       "      <th>ID</th>\n",
       "      <th>Thread</th>\n",
       "      <th>Port</th>\n",
       "      <th>Index</th>\n",
       "      <th>coler</th>\n",
       "      <th>Event</th>\n",
       "    </tr>\n",
       "  </thead>\n",
       "  <tbody>\n",
       "    <tr>\n",
       "      <th>0</th>\n",
       "      <td>r1</td>\n",
       "      <td>T2</td>\n",
       "      <td>{p2}</td>\n",
       "      <td>1</td>\n",
       "      <td>white</td>\n",
       "      <td>NaN</td>\n",
       "    </tr>\n",
       "    <tr>\n",
       "      <th>1</th>\n",
       "      <td>r2</td>\n",
       "      <td>T2</td>\n",
       "      <td>{p2}</td>\n",
       "      <td>2</td>\n",
       "      <td>white</td>\n",
       "      <td>NaN</td>\n",
       "    </tr>\n",
       "    <tr>\n",
       "      <th>2</th>\n",
       "      <td>r5</td>\n",
       "      <td>T3</td>\n",
       "      <td>{p3}</td>\n",
       "      <td>1</td>\n",
       "      <td>white</td>\n",
       "      <td>NaN</td>\n",
       "    </tr>\n",
       "    <tr>\n",
       "      <th>3</th>\n",
       "      <td>r4</td>\n",
       "      <td>T3</td>\n",
       "      <td>{p3}</td>\n",
       "      <td>2</td>\n",
       "      <td>white</td>\n",
       "      <td>NaN</td>\n",
       "    </tr>\n",
       "    <tr>\n",
       "      <th>4</th>\n",
       "      <td>s1</td>\n",
       "      <td>T1</td>\n",
       "      <td>{p2}</td>\n",
       "      <td>1</td>\n",
       "      <td>NaN</td>\n",
       "      <td>send</td>\n",
       "    </tr>\n",
       "    <tr>\n",
       "      <th>5</th>\n",
       "      <td>s2</td>\n",
       "      <td>T4</td>\n",
       "      <td>{p2}</td>\n",
       "      <td>1</td>\n",
       "      <td>NaN</td>\n",
       "      <td>send</td>\n",
       "    </tr>\n",
       "    <tr>\n",
       "      <th>6</th>\n",
       "      <td>s3</td>\n",
       "      <td>T2</td>\n",
       "      <td>{p3}</td>\n",
       "      <td>3</td>\n",
       "      <td>NaN</td>\n",
       "      <td>send</td>\n",
       "    </tr>\n",
       "    <tr>\n",
       "      <th>7</th>\n",
       "      <td>s4</td>\n",
       "      <td>T4</td>\n",
       "      <td>{p3}</td>\n",
       "      <td>2</td>\n",
       "      <td>NaN</td>\n",
       "      <td>send</td>\n",
       "    </tr>\n",
       "  </tbody>\n",
       "</table>\n",
       "</div>"
      ],
      "text/plain": [
       "   ID Thread  Port  Index  coler Event\n",
       "0  r1     T2  {p2}      1  white   NaN\n",
       "1  r2     T2  {p2}      2  white   NaN\n",
       "2  r5     T3  {p3}      1  white   NaN\n",
       "3  r4     T3  {p3}      2  white   NaN\n",
       "4  s1     T1  {p2}      1    NaN  send\n",
       "5  s2     T4  {p2}      1    NaN  send\n",
       "6  s3     T2  {p3}      3    NaN  send\n",
       "7  s4     T4  {p3}      2    NaN  send"
      ]
     },
     "execution_count": 43,
     "metadata": {},
     "output_type": "execute_result"
    }
   ],
   "source": [
    "Q[i+1"
   ]
  },
  {
   "cell_type": "code",
   "execution_count": 26,
   "metadata": {},
   "outputs": [
    {
     "data": {
      "text/plain": [
       "2"
      ]
     },
     "execution_count": 26,
     "metadata": {},
     "output_type": "execute_result"
    }
   ],
   "source": [
    "new_partner_number"
   ]
  },
  {
   "cell_type": "code",
   "execution_count": 93,
   "metadata": {},
   "outputs": [
    {
     "data": {
      "text/plain": [
       "'r3'"
      ]
     },
     "execution_count": 93,
     "metadata": {},
     "output_type": "execute_result"
    }
   ],
   "source": [
    "Q[i+1][Q[i+1]['ID']==columns[key]].iloc[0].ID # これのペアを\n",
    "race_set[0][Q[i+1][Q[i+1]['ID']==columns[key]].iloc[0].ID][int(table.iloc[i][columns[key]])-1] # これをペアに変更"
   ]
  },
  {
   "cell_type": "code",
   "execution_count": 163,
   "metadata": {},
   "outputs": [
    {
     "data": {
      "text/html": [
       "<div>\n",
       "<style scoped>\n",
       "    .dataframe tbody tr th:only-of-type {\n",
       "        vertical-align: middle;\n",
       "    }\n",
       "\n",
       "    .dataframe tbody tr th {\n",
       "        vertical-align: top;\n",
       "    }\n",
       "\n",
       "    .dataframe thead th {\n",
       "        text-align: right;\n",
       "    }\n",
       "</style>\n",
       "<table border=\"1\" class=\"dataframe\">\n",
       "  <thead>\n",
       "    <tr style=\"text-align: right;\">\n",
       "      <th></th>\n",
       "      <th>r1</th>\n",
       "      <th>r3</th>\n",
       "    </tr>\n",
       "  </thead>\n",
       "  <tbody>\n",
       "    <tr>\n",
       "      <th>0</th>\n",
       "      <td>0.0</td>\n",
       "      <td>1.0</td>\n",
       "    </tr>\n",
       "    <tr>\n",
       "      <th>1</th>\n",
       "      <td>1.0</td>\n",
       "      <td>0.0</td>\n",
       "    </tr>\n",
       "    <tr>\n",
       "      <th>2</th>\n",
       "      <td>1.0</td>\n",
       "      <td>1.0</td>\n",
       "    </tr>\n",
       "  </tbody>\n",
       "</table>\n",
       "</div>"
      ],
      "text/plain": [
       "    r1   r3\n",
       "0  0.0  1.0\n",
       "1  1.0  0.0\n",
       "2  1.0  1.0"
      ]
     },
     "execution_count": 163,
     "metadata": {},
     "output_type": "execute_result"
    }
   ],
   "source": [
    "table"
   ]
  },
  {
   "cell_type": "code",
   "execution_count": 116,
   "metadata": {},
   "outputs": [
    {
     "name": "stderr",
     "output_type": "stream",
     "text": [
      "C:\\Users\\Satoshi Fujita\\anaconda3\\lib\\site-packages\\ipykernel_launcher.py:1: UserWarning: Boolean Series key will be reindexed to match DataFrame index.\n",
      "  \"\"\"Entry point for launching an IPython kernel.\n"
     ]
    },
    {
     "data": {
      "text/html": [
       "<div>\n",
       "<style scoped>\n",
       "    .dataframe tbody tr th:only-of-type {\n",
       "        vertical-align: middle;\n",
       "    }\n",
       "\n",
       "    .dataframe tbody tr th {\n",
       "        vertical-align: top;\n",
       "    }\n",
       "\n",
       "    .dataframe thead th {\n",
       "        text-align: right;\n",
       "    }\n",
       "</style>\n",
       "<table border=\"1\" class=\"dataframe\">\n",
       "  <thead>\n",
       "    <tr style=\"text-align: right;\">\n",
       "      <th></th>\n",
       "      <th>ID</th>\n",
       "      <th>Thread</th>\n",
       "      <th>Port</th>\n",
       "      <th>Event</th>\n",
       "      <th>Index</th>\n",
       "    </tr>\n",
       "  </thead>\n",
       "  <tbody>\n",
       "    <tr>\n",
       "      <th>3</th>\n",
       "      <td>s4</td>\n",
       "      <td>T4</td>\n",
       "      <td>{p3}</td>\n",
       "      <td>send</td>\n",
       "      <td>2</td>\n",
       "    </tr>\n",
       "  </tbody>\n",
       "</table>\n",
       "</div>"
      ],
      "text/plain": [
       "   ID Thread  Port Event  Index\n",
       "3  s4     T4  {p3}  send      2"
      ]
     },
     "execution_count": 116,
     "metadata": {},
     "output_type": "execute_result"
    }
   ],
   "source": [
    "Qs[i+1][Qs[i+1].ID==race_set[0][Qr[i+1][Q[i+1]['ID']==columns[key]].iloc[0].ID][int(table.iloc[i][columns[key]])-1]].ID"
   ]
  },
  {
   "cell_type": "code",
   "execution_count": 37,
   "metadata": {},
   "outputs": [],
   "source": [
    "index_list=[]\n",
    "for i in range(0,len(Qs)):\n",
    "    if i==Qr[i+1][Qr[i+1]['ID']==columns[key]].iloc[0].name:\n",
    "        list.append(Qs[i+1][Qs[i+1].ID==race_set[0][Qr[i+1][Q[i+1]['ID']==columns[key]].iloc[0].ID][int(table.iloc[i][columns[key]])-1]].ID)\n",
    "    else if Qs[i+1][Qs[i+1].ID==race_set[0][Qr[i+1][Q[i+1]['ID']==columns[key]].iloc[0].ID][int(table.iloc[i][columns[key]])-1]].ID"
   ]
  },
  {
   "cell_type": "code",
   "execution_count": 43,
   "metadata": {},
   "outputs": [
    {
     "data": {
      "text/plain": [
       "[   ID Thread  Port  Index  coler Event\n",
       " 0  r1     T2  {p2}      1  white   NaN\n",
       " 1  r2     T2  {p2}      2  white   NaN\n",
       " 2  r3     T3  {p3}      1  white   NaN\n",
       " 3  r4     T3  {p3}      2  white   NaN\n",
       " 4  s1     T1  {p2}      1    NaN  send\n",
       " 5  s2     T4  {p2}      1    NaN  send\n",
       " 6  s3     T2  {p3}      3    NaN  send\n",
       " 7  s4     T4  {p3}      2    NaN  send]"
      ]
     },
     "execution_count": 43,
     "metadata": {},
     "output_type": "execute_result"
    }
   ],
   "source": [
    "Q"
   ]
  },
  {
   "cell_type": "code",
   "execution_count": null,
   "metadata": {},
   "outputs": [],
   "source": []
  }
 ],
 "metadata": {
  "kernelspec": {
   "display_name": "Python 3",
   "language": "python",
   "name": "python3"
  },
  "language_info": {
   "codemirror_mode": {
    "name": "ipython",
    "version": 3
   },
   "file_extension": ".py",
   "mimetype": "text/x-python",
   "name": "python",
   "nbconvert_exporter": "python",
   "pygments_lexer": "ipython3",
   "version": "3.7.7"
  }
 },
 "nbformat": 4,
 "nbformat_minor": 4
}
