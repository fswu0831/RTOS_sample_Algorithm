{
 "cells": [
  {
   "cell_type": "code",
   "execution_count": 8,
   "metadata": {},
   "outputs": [],
   "source": [
    "from allpairspy import AllPairs"
   ]
  },
  {
   "cell_type": "code",
   "execution_count": 16,
   "metadata": {},
   "outputs": [
    {
     "name": "stdout",
     "output_type": "stream",
     "text": [
      "PAIRWISE:\n",
      " 0: Pairs(brand='Brand X', os='98', minute=15)\n",
      " 1: Pairs(brand='Brand Y', os='NT', minute=15)\n",
      " 2: Pairs(brand='Brand Y', os='2000', minute=30)\n",
      " 3: Pairs(brand='Brand X', os='XP', minute=30)\n",
      " 4: Pairs(brand='Brand X', os='2000', minute=60)\n",
      " 5: Pairs(brand='Brand Y', os='XP', minute=60)\n",
      " 6: Pairs(brand='Brand Y', os='98', minute=60)\n",
      " 7: Pairs(brand='Brand X', os='NT', minute=60)\n",
      " 8: Pairs(brand='Brand X', os='NT', minute=30)\n",
      " 9: Pairs(brand='Brand X', os='98', minute=30)\n",
      "10: Pairs(brand='Brand X', os='XP', minute=15)\n",
      "11: Pairs(brand='Brand X', os='2000', minute=15)\n"
     ]
    }
   ],
   "source": [
    "from collections import OrderedDict\n",
    "from allpairspy import AllPairs\n",
    "\n",
    "parameters = OrderedDict({\n",
    "    \"brand\": [\"Brand X\", \"Brand Y\"],\n",
    "    \"os\": [\"98\", \"NT\", \"2000\", \"XP\"],\n",
    "    \"minute\": [15, 30, 60],\n",
    "})\n",
    "\n",
    "print(\"PAIRWISE:\")\n",
    "for i, pairs in enumerate(AllPairs(parameters)):\n",
    "    print(\"{:2d}: {}\".format(i, pairs))"
   ]
  },
  {
   "cell_type": "code",
   "execution_count": 15,
   "metadata": {},
   "outputs": [
    {
     "ename": "TypeError",
     "evalue": "'AllPairs' object is not subscriptable",
     "output_type": "error",
     "traceback": [
      "\u001b[1;31m---------------------------------------------------------------------------\u001b[0m",
      "\u001b[1;31mTypeError\u001b[0m                                 Traceback (most recent call last)",
      "\u001b[1;32m<ipython-input-15-a8a187cd1c4f>\u001b[0m in \u001b[0;36m<module>\u001b[1;34m\u001b[0m\n\u001b[1;32m----> 1\u001b[1;33m \u001b[0mAllPairs\u001b[0m\u001b[1;33m(\u001b[0m\u001b[0mparameters\u001b[0m\u001b[1;33m)\u001b[0m\u001b[1;33m[\u001b[0m\u001b[1;36m0\u001b[0m\u001b[1;33m]\u001b[0m\u001b[1;33m\u001b[0m\u001b[1;33m\u001b[0m\u001b[0m\n\u001b[0m",
      "\u001b[1;31mTypeError\u001b[0m: 'AllPairs' object is not subscriptable"
     ]
    }
   ],
   "source": [
    "AllPairs(parameters)"
   ]
  },
  {
   "cell_type": "code",
   "execution_count": null,
   "metadata": {},
   "outputs": [],
   "source": []
  }
 ],
 "metadata": {
  "kernelspec": {
   "display_name": "Python 3",
   "language": "python",
   "name": "python3"
  },
  "language_info": {
   "codemirror_mode": {
    "name": "ipython",
    "version": 3
   },
   "file_extension": ".py",
   "mimetype": "text/x-python",
   "name": "python",
   "nbconvert_exporter": "python",
   "pygments_lexer": "ipython3",
   "version": "3.7.7"
  }
 },
 "nbformat": 4,
 "nbformat_minor": 4
}
