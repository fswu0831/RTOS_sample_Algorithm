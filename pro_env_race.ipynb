{
 "cells": [
  {
   "cell_type": "code",
   "execution_count": 1,
   "metadata": {},
   "outputs": [
    {
     "name": "stderr",
     "output_type": "stream",
     "text": [
      "  0%|          | 0/10 [00:00<?, ?it/s]\n",
      "  0%|          | 0/20 [00:00<?, ?it/s]\u001b[A\n",
      " 35%|███▌      | 7/20 [00:00<00:00, 66.01it/s]\u001b[A"
     ]
    },
    {
     "name": "stdout",
     "output_type": "stream",
     "text": [
      "-------1回目-------\n"
     ]
    },
    {
     "name": "stderr",
     "output_type": "stream",
     "text": [
      "\n",
      " 45%|████▌     | 9/20 [00:00<00:00, 37.11it/s]\u001b[A\n",
      " 55%|█████▌    | 11/20 [00:00<00:00, 25.86it/s]\u001b[A\n",
      " 65%|██████▌   | 13/20 [00:00<00:00, 20.94it/s]\u001b[A\n",
      " 75%|███████▌  | 15/20 [00:00<00:00, 17.97it/s]\u001b[A\n",
      " 85%|████████▌ | 17/20 [00:00<00:00, 16.00it/s]\u001b[A\n",
      "100%|██████████| 20/20 [00:01<00:00, 18.52it/s]\u001b[A\n"
     ]
    },
    {
     "name": "stdout",
     "output_type": "stream",
     "text": [
      "finish initialize\n",
      "Creating race set\n",
      "Creating race set took:0.26[sec]\n",
      "Creating race set"
     ]
    },
    {
     "name": "stderr",
     "output_type": "stream",
     "text": [
      " 10%|█         | 1/10 [00:01<00:15,  1.70s/it]"
     ]
    },
    {
     "name": "stdout",
     "output_type": "stream",
     "text": [
      "\n",
      "Creating race set took:0.291[sec]\n",
      "-------2回目-------\n"
     ]
    },
    {
     "name": "stderr",
     "output_type": "stream",
     "text": [
      "\n",
      "  0%|          | 0/143 [00:00<?, ?it/s]\u001b[A\n",
      " 16%|█▌        | 23/143 [00:00<00:00, 225.41it/s]\u001b[A\n",
      " 22%|██▏       | 32/143 [00:00<00:00, 153.75it/s]\u001b[A\n",
      " 28%|██▊       | 40/143 [00:00<00:00, 110.90it/s]\u001b[A\n",
      " 34%|███▎      | 48/143 [00:00<00:01, 80.01it/s] \u001b[A\n",
      " 38%|███▊      | 55/143 [00:00<00:01, 64.26it/s]\u001b[A\n",
      " 43%|████▎     | 61/143 [00:00<00:01, 54.37it/s]\u001b[A\n",
      " 47%|████▋     | 67/143 [00:01<00:01, 42.69it/s]\u001b[A\n",
      " 50%|█████     | 72/143 [00:01<00:01, 38.02it/s]\u001b[A\n",
      " 54%|█████▍    | 77/143 [00:01<00:01, 36.49it/s]\u001b[A\n",
      " 57%|█████▋    | 81/143 [00:01<00:01, 35.01it/s]\u001b[A\n",
      " 59%|█████▉    | 85/143 [00:01<00:01, 32.00it/s]\u001b[A\n",
      " 62%|██████▏   | 89/143 [00:01<00:01, 29.79it/s]\u001b[A\n",
      " 65%|██████▌   | 93/143 [00:01<00:02, 24.45it/s]\u001b[A\n",
      " 67%|██████▋   | 96/143 [00:02<00:02, 19.07it/s]\u001b[A\n",
      " 69%|██████▉   | 99/143 [00:02<00:02, 18.02it/s]\u001b[A\n",
      " 71%|███████▏  | 102/143 [00:02<00:02, 16.33it/s]\u001b[A\n",
      " 73%|███████▎  | 104/143 [00:02<00:02, 13.45it/s]\u001b[A\n",
      " 74%|███████▍  | 106/143 [00:03<00:02, 13.07it/s]\u001b[A\n",
      " 76%|███████▌  | 108/143 [00:03<00:02, 12.60it/s]\u001b[A\n",
      " 77%|███████▋  | 110/143 [00:03<00:02, 13.09it/s]\u001b[A\n",
      " 78%|███████▊  | 112/143 [00:03<00:02, 14.14it/s]\u001b[A\n",
      " 80%|███████▉  | 114/143 [00:03<00:01, 15.29it/s]\u001b[A\n",
      " 81%|████████  | 116/143 [00:03<00:01, 16.13it/s]\u001b[A\n",
      " 83%|████████▎ | 118/143 [00:03<00:01, 16.37it/s]\u001b[A\n",
      " 84%|████████▍ | 120/143 [00:03<00:01, 16.96it/s]\u001b[A\n",
      " 85%|████████▌ | 122/143 [00:03<00:01, 16.74it/s]\u001b[A\n",
      " 87%|████████▋ | 124/143 [00:04<00:01, 15.20it/s]\u001b[A\n",
      " 88%|████████▊ | 126/143 [00:04<00:01, 12.03it/s]\u001b[A\n",
      " 90%|████████▉ | 128/143 [00:04<00:01, 11.02it/s]\u001b[A\n",
      " 91%|█████████ | 130/143 [00:04<00:01, 11.31it/s]\u001b[A\n",
      " 92%|█████████▏| 132/143 [00:05<00:01, 10.61it/s]\u001b[A\n",
      " 94%|█████████▎| 134/143 [00:05<00:00, 10.89it/s]\u001b[A\n",
      " 95%|█████████▌| 136/143 [00:05<00:00, 11.22it/s]\u001b[A\n",
      " 97%|█████████▋| 138/143 [00:05<00:00, 11.18it/s]\u001b[A\n",
      " 98%|█████████▊| 140/143 [00:05<00:00, 11.94it/s]\u001b[A\n",
      "100%|██████████| 143/143 [00:05<00:00, 24.22it/s]\u001b[A\n"
     ]
    },
    {
     "name": "stdout",
     "output_type": "stream",
     "text": [
      "finish initialize\n",
      "Creating race set\n",
      "Creating race set took:1.283[sec]\n",
      "Creating race set"
     ]
    },
    {
     "name": "stderr",
     "output_type": "stream",
     "text": [
      " 20%|██        | 2/10 [00:10<00:30,  3.86s/it]\n",
      "  0%|          | 0/36 [00:00<?, ?it/s]\u001b[A"
     ]
    },
    {
     "name": "stdout",
     "output_type": "stream",
     "text": [
      "\n",
      "Creating race set took:1.399[sec]\n",
      "-------3回目-------\n"
     ]
    },
    {
     "name": "stderr",
     "output_type": "stream",
     "text": [
      "\n",
      " 19%|█▉        | 7/36 [00:00<00:00, 59.32it/s]\u001b[A\n",
      " 28%|██▊       | 10/36 [00:00<00:00, 41.32it/s]\u001b[A\n",
      " 39%|███▉      | 14/36 [00:00<00:00, 38.78it/s]\u001b[A\n",
      " 47%|████▋     | 17/36 [00:00<00:00, 35.15it/s]\u001b[A\n",
      " 56%|█████▌    | 20/36 [00:00<00:00, 27.69it/s]\u001b[A\n",
      " 64%|██████▍   | 23/36 [00:00<00:00, 24.22it/s]\u001b[A\n",
      " 72%|███████▏  | 26/36 [00:00<00:00, 22.37it/s]\u001b[A\n",
      " 81%|████████  | 29/36 [00:01<00:00, 19.02it/s]\u001b[A\n",
      " 86%|████████▌ | 31/36 [00:01<00:00, 13.32it/s]\u001b[A\n",
      " 92%|█████████▏| 33/36 [00:01<00:00, 12.71it/s]\u001b[A\n",
      "100%|██████████| 36/36 [00:01<00:00, 19.19it/s]\u001b[A\n"
     ]
    },
    {
     "name": "stdout",
     "output_type": "stream",
     "text": [
      "finish initialize\n",
      "Creating race set\n",
      "Creating race set took:0.303[sec]\n",
      "Creating race set"
     ]
    },
    {
     "name": "stderr",
     "output_type": "stream",
     "text": [
      " 30%|███       | 3/10 [00:13<00:24,  3.53s/it]\n",
      "  0%|          | 0/52 [00:00<?, ?it/s]\u001b[A\n",
      " 23%|██▎       | 12/52 [00:00<00:00, 113.21it/s]\u001b[A"
     ]
    },
    {
     "name": "stdout",
     "output_type": "stream",
     "text": [
      "\n",
      "Creating race set took:0.462[sec]\n",
      "-------4回目-------\n"
     ]
    },
    {
     "name": "stderr",
     "output_type": "stream",
     "text": [
      "\n",
      " 33%|███▎      | 17/52 [00:00<00:00, 78.23it/s] \u001b[A\n",
      " 40%|████      | 21/52 [00:00<00:00, 59.18it/s]\u001b[A\n",
      " 48%|████▊     | 25/52 [00:00<00:00, 49.25it/s]\u001b[A\n",
      " 56%|█████▌    | 29/52 [00:00<00:00, 38.59it/s]\u001b[A\n",
      " 63%|██████▎   | 33/52 [00:00<00:00, 27.33it/s]\u001b[A\n",
      " 69%|██████▉   | 36/52 [00:01<00:00, 16.95it/s]\u001b[A\n",
      " 75%|███████▌  | 39/52 [00:01<00:00, 15.22it/s]\u001b[A\n",
      " 79%|███████▉  | 41/52 [00:01<00:00, 13.78it/s]\u001b[A\n",
      " 83%|████████▎ | 43/52 [00:01<00:00, 12.96it/s]\u001b[A\n",
      " 87%|████████▋ | 45/52 [00:01<00:00, 12.67it/s]\u001b[A\n",
      " 90%|█████████ | 47/52 [00:02<00:00, 12.91it/s]\u001b[A\n",
      " 94%|█████████▍| 49/52 [00:02<00:00, 12.62it/s]\u001b[A\n",
      "100%|██████████| 52/52 [00:02<00:00, 20.78it/s]\u001b[A\n"
     ]
    },
    {
     "name": "stdout",
     "output_type": "stream",
     "text": [
      "finish initialize\n",
      "Creating race set\n",
      "Creating race set took:0.546[sec]\n",
      "Creating race set"
     ]
    },
    {
     "name": "stderr",
     "output_type": "stream",
     "text": [
      " 40%|████      | 4/10 [00:17<00:21,  3.62s/it]\n",
      "  0%|          | 0/68 [00:00<?, ?it/s]\u001b[A"
     ]
    },
    {
     "name": "stdout",
     "output_type": "stream",
     "text": [
      "\n",
      "Creating race set took:0.697[sec]\n",
      "-------5回目-------\n"
     ]
    },
    {
     "name": "stderr",
     "output_type": "stream",
     "text": [
      "\n",
      " 18%|█▊        | 12/68 [00:00<00:00, 105.27it/s]\u001b[A\n",
      " 25%|██▌       | 17/68 [00:00<00:00, 73.80it/s] \u001b[A\n",
      " 31%|███       | 21/68 [00:00<00:00, 52.81it/s]\u001b[A\n",
      " 37%|███▋      | 25/68 [00:00<00:01, 41.31it/s]\u001b[A\n",
      " 43%|████▎     | 29/68 [00:00<00:00, 39.57it/s]\u001b[A\n",
      " 49%|████▊     | 33/68 [00:00<00:00, 37.36it/s]\u001b[A\n",
      " 54%|█████▍    | 37/68 [00:00<00:00, 31.02it/s]\u001b[A\n",
      " 59%|█████▉    | 40/68 [00:01<00:01, 26.34it/s]\u001b[A\n",
      " 63%|██████▎   | 43/68 [00:01<00:01, 24.11it/s]\u001b[A\n",
      " 68%|██████▊   | 46/68 [00:01<00:01, 20.78it/s]\u001b[A\n",
      " 72%|███████▏  | 49/68 [00:01<00:00, 19.88it/s]\u001b[A\n",
      " 76%|███████▋  | 52/68 [00:01<00:00, 19.23it/s]\u001b[A\n",
      " 79%|███████▉  | 54/68 [00:01<00:00, 17.70it/s]\u001b[A\n",
      " 82%|████████▏ | 56/68 [00:02<00:00, 15.96it/s]\u001b[A\n",
      " 85%|████████▌ | 58/68 [00:02<00:00, 15.93it/s]\u001b[A\n",
      " 88%|████████▊ | 60/68 [00:02<00:00, 15.51it/s]\u001b[A\n",
      " 91%|█████████ | 62/68 [00:02<00:00, 14.34it/s]\u001b[A\n",
      " 94%|█████████▍| 64/68 [00:02<00:00, 12.88it/s]\u001b[A\n",
      " 97%|█████████▋| 66/68 [00:02<00:00, 11.14it/s]\u001b[A\n",
      "100%|██████████| 68/68 [00:03<00:00, 21.89it/s]\u001b[A\n"
     ]
    },
    {
     "name": "stdout",
     "output_type": "stream",
     "text": [
      "finish initialize\n",
      "Creating race set\n",
      "Creating race set took:0.901[sec]\n",
      "Creating race set"
     ]
    },
    {
     "name": "stderr",
     "output_type": "stream",
     "text": [
      " 50%|█████     | 5/10 [00:21<00:19,  3.94s/it]\n",
      "  0%|          | 0/84 [00:00<?, ?it/s]\u001b[A"
     ]
    },
    {
     "name": "stdout",
     "output_type": "stream",
     "text": [
      "\n",
      "Creating race set took:0.613[sec]\n",
      "-------6回目-------\n"
     ]
    },
    {
     "name": "stderr",
     "output_type": "stream",
     "text": [
      "\n",
      " 15%|█▌        | 13/84 [00:00<00:00, 112.07it/s]\u001b[A\n",
      " 21%|██▏       | 18/84 [00:00<00:00, 81.26it/s] \u001b[A\n",
      " 29%|██▊       | 24/84 [00:00<00:00, 71.60it/s]\u001b[A\n",
      " 35%|███▍      | 29/84 [00:00<00:01, 52.76it/s]\u001b[A\n",
      " 40%|████      | 34/84 [00:00<00:01, 45.52it/s]\u001b[A\n",
      " 45%|████▌     | 38/84 [00:00<00:01, 36.33it/s]\u001b[A\n",
      " 50%|█████     | 42/84 [00:00<00:01, 29.77it/s]\u001b[A\n",
      " 55%|█████▍    | 46/84 [00:01<00:01, 22.35it/s]\u001b[A\n",
      " 58%|█████▊    | 49/84 [00:01<00:01, 19.34it/s]\u001b[A\n",
      " 62%|██████▏   | 52/84 [00:01<00:01, 18.21it/s]\u001b[A\n",
      " 65%|██████▌   | 55/84 [00:01<00:01, 16.83it/s]\u001b[A\n",
      " 68%|██████▊   | 57/84 [00:02<00:01, 15.49it/s]\u001b[A\n",
      " 70%|███████   | 59/84 [00:02<00:01, 15.86it/s]\u001b[A\n",
      " 73%|███████▎  | 61/84 [00:02<00:01, 13.20it/s]\u001b[A\n",
      " 75%|███████▌  | 63/84 [00:02<00:01, 11.10it/s]\u001b[A\n",
      " 77%|███████▋  | 65/84 [00:02<00:01, 11.07it/s]\u001b[A\n",
      " 80%|███████▉  | 67/84 [00:02<00:01, 12.24it/s]\u001b[A\n",
      " 82%|████████▏ | 69/84 [00:03<00:01, 12.52it/s]\u001b[A\n",
      " 85%|████████▍ | 71/84 [00:03<00:01, 12.40it/s]\u001b[A\n",
      " 87%|████████▋ | 73/84 [00:03<00:01, 10.05it/s]\u001b[A\n",
      " 89%|████████▉ | 75/84 [00:03<00:00,  9.32it/s]\u001b[A\n",
      " 92%|█████████▏| 77/84 [00:03<00:00,  9.78it/s]\u001b[A\n",
      " 94%|█████████▍| 79/84 [00:04<00:00, 10.02it/s]\u001b[A\n",
      " 96%|█████████▋| 81/84 [00:04<00:00, 10.12it/s]\u001b[A\n",
      " 99%|█████████▉| 83/84 [00:04<00:00,  9.69it/s]\u001b[A\n",
      "100%|██████████| 84/84 [00:04<00:00, 17.96it/s]\u001b[A\n"
     ]
    },
    {
     "name": "stdout",
     "output_type": "stream",
     "text": [
      "finish initialize\n",
      "Creating race set\n",
      "Creating race set took:1.284[sec]\n",
      "Creating race set"
     ]
    },
    {
     "name": "stderr",
     "output_type": "stream",
     "text": [
      " 60%|██████    | 6/10 [00:28<00:19,  4.85s/it]\n",
      "  0%|          | 0/100 [00:00<?, ?it/s]\u001b[A"
     ]
    },
    {
     "name": "stdout",
     "output_type": "stream",
     "text": [
      "\n",
      "Creating race set took:0.839[sec]\n",
      "-------7回目-------\n"
     ]
    },
    {
     "name": "stderr",
     "output_type": "stream",
     "text": [
      "\n",
      " 14%|█▍        | 14/100 [00:00<00:00, 130.84it/s]\u001b[A\n",
      " 19%|█▉        | 19/100 [00:00<00:00, 84.96it/s] \u001b[A\n",
      " 25%|██▌       | 25/100 [00:00<00:01, 68.78it/s]\u001b[A\n",
      " 30%|███       | 30/100 [00:00<00:01, 44.85it/s]\u001b[A\n",
      " 34%|███▍      | 34/100 [00:00<00:01, 33.08it/s]\u001b[A\n",
      " 38%|███▊      | 38/100 [00:00<00:02, 27.26it/s]\u001b[A\n",
      " 41%|████      | 41/100 [00:01<00:02, 22.58it/s]\u001b[A\n",
      " 44%|████▍     | 44/100 [00:01<00:02, 22.63it/s]\u001b[A\n",
      " 47%|████▋     | 47/100 [00:01<00:01, 34.28it/s]\n",
      " 60%|██████    | 6/10 [00:30<00:20,  5.06s/it]\n"
     ]
    },
    {
     "ename": "KeyboardInterrupt",
     "evalue": "",
     "output_type": "error",
     "traceback": [
      "\u001b[1;31m---------------------------------------------------------------------------\u001b[0m",
      "\u001b[1;31mKeyboardInterrupt\u001b[0m                         Traceback (most recent call last)",
      "\u001b[1;32m<ipython-input-1-274fe1ec11c5>\u001b[0m in \u001b[0;36m<module>\u001b[1;34m\u001b[0m\n\u001b[0;32m     50\u001b[0m     \u001b[0mQs\u001b[0m\u001b[1;33m[\u001b[0m\u001b[1;36m0\u001b[0m\u001b[1;33m]\u001b[0m\u001b[1;33m=\u001b[0m\u001b[0mpd\u001b[0m\u001b[1;33m.\u001b[0m\u001b[0mread_csv\u001b[0m\u001b[1;33m(\u001b[0m\u001b[0mSEND_SHEET_NAME\u001b[0m\u001b[1;33m,\u001b[0m\u001b[0mnames\u001b[0m\u001b[1;33m=\u001b[0m\u001b[0mheading\u001b[0m\u001b[1;33m)\u001b[0m\u001b[1;33m\u001b[0m\u001b[1;33m\u001b[0m\u001b[0m\n\u001b[0;32m     51\u001b[0m \u001b[1;33m\u001b[0m\u001b[0m\n\u001b[1;32m---> 52\u001b[1;33m     \u001b[0minit_tables\u001b[0m\u001b[1;33m=\u001b[0m\u001b[0minit\u001b[0m\u001b[1;33m.\u001b[0m\u001b[0minit_main\u001b[0m\u001b[1;33m(\u001b[0m\u001b[0mQr\u001b[0m\u001b[1;33m,\u001b[0m\u001b[0mQs\u001b[0m\u001b[1;33m)\u001b[0m\u001b[1;33m\u001b[0m\u001b[1;33m\u001b[0m\u001b[0m\n\u001b[0m\u001b[0;32m     53\u001b[0m     \u001b[0mQr\u001b[0m\u001b[1;33m=\u001b[0m\u001b[0minit_tables\u001b[0m\u001b[1;33m[\u001b[0m\u001b[1;34m'Qr'\u001b[0m\u001b[1;33m]\u001b[0m\u001b[1;33m\u001b[0m\u001b[1;33m\u001b[0m\u001b[0m\n\u001b[0;32m     54\u001b[0m     \u001b[0mQs\u001b[0m\u001b[1;33m=\u001b[0m\u001b[0minit_tables\u001b[0m\u001b[1;33m[\u001b[0m\u001b[1;34m'Qs'\u001b[0m\u001b[1;33m]\u001b[0m\u001b[1;33m\u001b[0m\u001b[1;33m\u001b[0m\u001b[0m\n",
      "\u001b[1;32m~\\src\\RTOS\\init_table.py\u001b[0m in \u001b[0;36minit_main\u001b[1;34m(Qr, Qs)\u001b[0m\n\u001b[0;32m      9\u001b[0m     \u001b[0mQr\u001b[0m\u001b[1;33m[\u001b[0m\u001b[1;36m0\u001b[0m\u001b[1;33m]\u001b[0m\u001b[1;33m=\u001b[0m\u001b[0minit\u001b[0m\u001b[1;33m(\u001b[0m\u001b[0mQr\u001b[0m\u001b[1;33m[\u001b[0m\u001b[1;36m0\u001b[0m\u001b[1;33m]\u001b[0m\u001b[1;33m,\u001b[0m\u001b[1;34m'r'\u001b[0m\u001b[1;33m)\u001b[0m\u001b[1;33m\u001b[0m\u001b[1;33m\u001b[0m\u001b[0m\n\u001b[0;32m     10\u001b[0m     \u001b[0mQs\u001b[0m\u001b[1;33m[\u001b[0m\u001b[1;36m0\u001b[0m\u001b[1;33m]\u001b[0m\u001b[1;33m=\u001b[0m\u001b[0minit\u001b[0m\u001b[1;33m(\u001b[0m\u001b[0mQs\u001b[0m\u001b[1;33m[\u001b[0m\u001b[1;36m0\u001b[0m\u001b[1;33m]\u001b[0m\u001b[1;33m,\u001b[0m\u001b[1;34m's'\u001b[0m\u001b[1;33m)\u001b[0m\u001b[1;33m\u001b[0m\u001b[1;33m\u001b[0m\u001b[0m\n\u001b[1;32m---> 11\u001b[1;33m     \u001b[0mdf_unique\u001b[0m\u001b[1;33m=\u001b[0m\u001b[0mappend_unique\u001b[0m\u001b[1;33m(\u001b[0m\u001b[0mQr\u001b[0m\u001b[1;33m,\u001b[0m\u001b[0mQs\u001b[0m\u001b[1;33m)\u001b[0m\u001b[1;33m\u001b[0m\u001b[1;33m\u001b[0m\u001b[0m\n\u001b[0m\u001b[0;32m     12\u001b[0m     \u001b[0mQr_unique\u001b[0m\u001b[1;33m=\u001b[0m\u001b[0mdf_unique\u001b[0m\u001b[1;33m[\u001b[0m\u001b[1;34m'Qr'\u001b[0m\u001b[1;33m]\u001b[0m\u001b[1;33m\u001b[0m\u001b[1;33m\u001b[0m\u001b[0m\n\u001b[0;32m     13\u001b[0m     \u001b[0mQs_unique\u001b[0m\u001b[1;33m=\u001b[0m\u001b[0mdf_unique\u001b[0m\u001b[1;33m[\u001b[0m\u001b[1;34m'Qs'\u001b[0m\u001b[1;33m]\u001b[0m\u001b[1;33m\u001b[0m\u001b[1;33m\u001b[0m\u001b[0m\n",
      "\u001b[1;32m~\\src\\RTOS\\init_table.py\u001b[0m in \u001b[0;36mappend_unique\u001b[1;34m(Qr, Qs)\u001b[0m\n\u001b[0;32m     33\u001b[0m     \u001b[0mr_list\u001b[0m\u001b[1;33m=\u001b[0m\u001b[1;33m[\u001b[0m\u001b[1;33m]\u001b[0m\u001b[1;33m\u001b[0m\u001b[1;33m\u001b[0m\u001b[0m\n\u001b[0;32m     34\u001b[0m     \u001b[0ms_list\u001b[0m\u001b[1;33m=\u001b[0m\u001b[1;33m[\u001b[0m\u001b[1;33m]\u001b[0m\u001b[1;33m\u001b[0m\u001b[1;33m\u001b[0m\u001b[0m\n\u001b[1;32m---> 35\u001b[1;33m     \u001b[1;32mfor\u001b[0m \u001b[0mi\u001b[0m \u001b[1;32min\u001b[0m \u001b[0mtqdm\u001b[0m\u001b[1;33m(\u001b[0m\u001b[0mrange\u001b[0m\u001b[1;33m(\u001b[0m\u001b[1;36m0\u001b[0m\u001b[1;33m,\u001b[0m\u001b[0mlen\u001b[0m\u001b[1;33m(\u001b[0m\u001b[0mQr\u001b[0m\u001b[1;33m[\u001b[0m\u001b[1;36m0\u001b[0m\u001b[1;33m]\u001b[0m\u001b[1;33m)\u001b[0m\u001b[1;33m)\u001b[0m\u001b[1;33m)\u001b[0m\u001b[1;33m:\u001b[0m\u001b[1;33m\u001b[0m\u001b[1;33m\u001b[0m\u001b[0m\n\u001b[0m\u001b[0;32m     36\u001b[0m         \u001b[0ms_list\u001b[0m\u001b[1;33m.\u001b[0m\u001b[0mappend\u001b[0m\u001b[1;33m(\u001b[0m\u001b[0mcs\u001b[0m\u001b[1;33m.\u001b[0m\u001b[0mcstruct_init\u001b[0m\u001b[1;33m(\u001b[0m\u001b[0mQr\u001b[0m\u001b[1;33m,\u001b[0m\u001b[0mQs\u001b[0m\u001b[1;33m,\u001b[0m\u001b[0mQs\u001b[0m\u001b[1;33m[\u001b[0m\u001b[1;36m0\u001b[0m\u001b[1;33m]\u001b[0m\u001b[1;33m.\u001b[0m\u001b[0miloc\u001b[0m\u001b[1;33m[\u001b[0m\u001b[0mi\u001b[0m\u001b[1;33m]\u001b[0m\u001b[1;33m,\u001b[0m\u001b[0ms_list\u001b[0m\u001b[1;33m)\u001b[0m\u001b[1;33m)\u001b[0m\u001b[1;33m\u001b[0m\u001b[1;33m\u001b[0m\u001b[0m\n\u001b[0;32m     37\u001b[0m         \u001b[0mr_list\u001b[0m\u001b[1;33m.\u001b[0m\u001b[0mappend\u001b[0m\u001b[1;33m(\u001b[0m\u001b[0mcs\u001b[0m\u001b[1;33m.\u001b[0m\u001b[0mcstruct_init\u001b[0m\u001b[1;33m(\u001b[0m\u001b[0mQr\u001b[0m\u001b[1;33m,\u001b[0m\u001b[0mQs\u001b[0m\u001b[1;33m,\u001b[0m\u001b[0mQr\u001b[0m\u001b[1;33m[\u001b[0m\u001b[1;36m0\u001b[0m\u001b[1;33m]\u001b[0m\u001b[1;33m.\u001b[0m\u001b[0miloc\u001b[0m\u001b[1;33m[\u001b[0m\u001b[0mi\u001b[0m\u001b[1;33m]\u001b[0m\u001b[1;33m,\u001b[0m\u001b[0ms_list\u001b[0m\u001b[1;33m)\u001b[0m\u001b[1;33m)\u001b[0m\u001b[1;33m\u001b[0m\u001b[1;33m\u001b[0m\u001b[0m\n",
      "\u001b[1;32m~\\anaconda3\\lib\\site-packages\\tqdm\\std.py\u001b[0m in \u001b[0;36m__iter__\u001b[1;34m(self)\u001b[0m\n\u001b[0;32m   1146\u001b[0m \u001b[1;33m\u001b[0m\u001b[0m\n\u001b[0;32m   1147\u001b[0m                         \u001b[0mself\u001b[0m\u001b[1;33m.\u001b[0m\u001b[0mn\u001b[0m \u001b[1;33m=\u001b[0m \u001b[0mn\u001b[0m\u001b[1;33m\u001b[0m\u001b[1;33m\u001b[0m\u001b[0m\n\u001b[1;32m-> 1148\u001b[1;33m                         \u001b[0mself\u001b[0m\u001b[1;33m.\u001b[0m\u001b[0mrefresh\u001b[0m\u001b[1;33m(\u001b[0m\u001b[0mlock_args\u001b[0m\u001b[1;33m=\u001b[0m\u001b[0mself\u001b[0m\u001b[1;33m.\u001b[0m\u001b[0mlock_args\u001b[0m\u001b[1;33m)\u001b[0m\u001b[1;33m\u001b[0m\u001b[1;33m\u001b[0m\u001b[0m\n\u001b[0m\u001b[0;32m   1149\u001b[0m \u001b[1;33m\u001b[0m\u001b[0m\n\u001b[0;32m   1150\u001b[0m                         \u001b[1;31m# If no `miniters` was specified, adjust automatically\u001b[0m\u001b[1;33m\u001b[0m\u001b[1;33m\u001b[0m\u001b[1;33m\u001b[0m\u001b[0m\n",
      "\u001b[1;32m~\\anaconda3\\lib\\site-packages\\tqdm\\std.py\u001b[0m in \u001b[0;36mrefresh\u001b[1;34m(self, nolock, lock_args)\u001b[0m\n\u001b[0;32m   1336\u001b[0m             \u001b[1;32melse\u001b[0m\u001b[1;33m:\u001b[0m\u001b[1;33m\u001b[0m\u001b[1;33m\u001b[0m\u001b[0m\n\u001b[0;32m   1337\u001b[0m                 \u001b[0mself\u001b[0m\u001b[1;33m.\u001b[0m\u001b[0m_lock\u001b[0m\u001b[1;33m.\u001b[0m\u001b[0macquire\u001b[0m\u001b[1;33m(\u001b[0m\u001b[1;33m)\u001b[0m\u001b[1;33m\u001b[0m\u001b[1;33m\u001b[0m\u001b[0m\n\u001b[1;32m-> 1338\u001b[1;33m         \u001b[0mself\u001b[0m\u001b[1;33m.\u001b[0m\u001b[0mdisplay\u001b[0m\u001b[1;33m(\u001b[0m\u001b[1;33m)\u001b[0m\u001b[1;33m\u001b[0m\u001b[1;33m\u001b[0m\u001b[0m\n\u001b[0m\u001b[0;32m   1339\u001b[0m         \u001b[1;32mif\u001b[0m \u001b[1;32mnot\u001b[0m \u001b[0mnolock\u001b[0m\u001b[1;33m:\u001b[0m\u001b[1;33m\u001b[0m\u001b[1;33m\u001b[0m\u001b[0m\n\u001b[0;32m   1340\u001b[0m             \u001b[0mself\u001b[0m\u001b[1;33m.\u001b[0m\u001b[0m_lock\u001b[0m\u001b[1;33m.\u001b[0m\u001b[0mrelease\u001b[0m\u001b[1;33m(\u001b[0m\u001b[1;33m)\u001b[0m\u001b[1;33m\u001b[0m\u001b[1;33m\u001b[0m\u001b[0m\n",
      "\u001b[1;32m~\\anaconda3\\lib\\site-packages\\tqdm\\std.py\u001b[0m in \u001b[0;36mdisplay\u001b[1;34m(self, msg, pos)\u001b[0m\n\u001b[0;32m   1468\u001b[0m \u001b[1;33m\u001b[0m\u001b[0m\n\u001b[0;32m   1469\u001b[0m         \u001b[1;32mif\u001b[0m \u001b[0mpos\u001b[0m\u001b[1;33m:\u001b[0m\u001b[1;33m\u001b[0m\u001b[1;33m\u001b[0m\u001b[0m\n\u001b[1;32m-> 1470\u001b[1;33m             \u001b[0mself\u001b[0m\u001b[1;33m.\u001b[0m\u001b[0mmoveto\u001b[0m\u001b[1;33m(\u001b[0m\u001b[0mpos\u001b[0m\u001b[1;33m)\u001b[0m\u001b[1;33m\u001b[0m\u001b[1;33m\u001b[0m\u001b[0m\n\u001b[0m\u001b[0;32m   1471\u001b[0m         \u001b[0mself\u001b[0m\u001b[1;33m.\u001b[0m\u001b[0msp\u001b[0m\u001b[1;33m(\u001b[0m\u001b[0mself\u001b[0m\u001b[1;33m.\u001b[0m\u001b[0m__repr__\u001b[0m\u001b[1;33m(\u001b[0m\u001b[1;33m)\u001b[0m \u001b[1;32mif\u001b[0m \u001b[0mmsg\u001b[0m \u001b[1;32mis\u001b[0m \u001b[1;32mNone\u001b[0m \u001b[1;32melse\u001b[0m \u001b[0mmsg\u001b[0m\u001b[1;33m)\u001b[0m\u001b[1;33m\u001b[0m\u001b[1;33m\u001b[0m\u001b[0m\n\u001b[0;32m   1472\u001b[0m         \u001b[1;32mif\u001b[0m \u001b[0mpos\u001b[0m\u001b[1;33m:\u001b[0m\u001b[1;33m\u001b[0m\u001b[1;33m\u001b[0m\u001b[0m\n",
      "\u001b[1;32m~\\anaconda3\\lib\\site-packages\\tqdm\\std.py\u001b[0m in \u001b[0;36mmoveto\u001b[1;34m(self, n)\u001b[0m\n\u001b[0;32m   1424\u001b[0m     \u001b[1;32mdef\u001b[0m \u001b[0mmoveto\u001b[0m\u001b[1;33m(\u001b[0m\u001b[0mself\u001b[0m\u001b[1;33m,\u001b[0m \u001b[0mn\u001b[0m\u001b[1;33m)\u001b[0m\u001b[1;33m:\u001b[0m\u001b[1;33m\u001b[0m\u001b[1;33m\u001b[0m\u001b[0m\n\u001b[0;32m   1425\u001b[0m         \u001b[1;31m# TODO: private method\u001b[0m\u001b[1;33m\u001b[0m\u001b[1;33m\u001b[0m\u001b[1;33m\u001b[0m\u001b[0m\n\u001b[1;32m-> 1426\u001b[1;33m         \u001b[0mself\u001b[0m\u001b[1;33m.\u001b[0m\u001b[0mfp\u001b[0m\u001b[1;33m.\u001b[0m\u001b[0mwrite\u001b[0m\u001b[1;33m(\u001b[0m\u001b[0m_unicode\u001b[0m\u001b[1;33m(\u001b[0m\u001b[1;34m'\\n'\u001b[0m \u001b[1;33m*\u001b[0m \u001b[0mn\u001b[0m \u001b[1;33m+\u001b[0m \u001b[0m_term_move_up\u001b[0m\u001b[1;33m(\u001b[0m\u001b[1;33m)\u001b[0m \u001b[1;33m*\u001b[0m \u001b[1;33m-\u001b[0m\u001b[0mn\u001b[0m\u001b[1;33m)\u001b[0m\u001b[1;33m)\u001b[0m\u001b[1;33m\u001b[0m\u001b[1;33m\u001b[0m\u001b[0m\n\u001b[0m\u001b[0;32m   1427\u001b[0m         \u001b[0mself\u001b[0m\u001b[1;33m.\u001b[0m\u001b[0mfp\u001b[0m\u001b[1;33m.\u001b[0m\u001b[0mflush\u001b[0m\u001b[1;33m(\u001b[0m\u001b[1;33m)\u001b[0m\u001b[1;33m\u001b[0m\u001b[1;33m\u001b[0m\u001b[0m\n\u001b[0;32m   1428\u001b[0m \u001b[1;33m\u001b[0m\u001b[0m\n",
      "\u001b[1;32m~\\anaconda3\\lib\\site-packages\\ipykernel\\iostream.py\u001b[0m in \u001b[0;36mwrite\u001b[1;34m(self, string)\u001b[0m\n\u001b[0;32m    402\u001b[0m             \u001b[0mis_child\u001b[0m \u001b[1;33m=\u001b[0m \u001b[1;33m(\u001b[0m\u001b[1;32mnot\u001b[0m \u001b[0mself\u001b[0m\u001b[1;33m.\u001b[0m\u001b[0m_is_master_process\u001b[0m\u001b[1;33m(\u001b[0m\u001b[1;33m)\u001b[0m\u001b[1;33m)\u001b[0m\u001b[1;33m\u001b[0m\u001b[1;33m\u001b[0m\u001b[0m\n\u001b[0;32m    403\u001b[0m             \u001b[1;31m# only touch the buffer in the IO thread to avoid races\u001b[0m\u001b[1;33m\u001b[0m\u001b[1;33m\u001b[0m\u001b[1;33m\u001b[0m\u001b[0m\n\u001b[1;32m--> 404\u001b[1;33m             \u001b[0mself\u001b[0m\u001b[1;33m.\u001b[0m\u001b[0mpub_thread\u001b[0m\u001b[1;33m.\u001b[0m\u001b[0mschedule\u001b[0m\u001b[1;33m(\u001b[0m\u001b[1;32mlambda\u001b[0m \u001b[1;33m:\u001b[0m \u001b[0mself\u001b[0m\u001b[1;33m.\u001b[0m\u001b[0m_buffer\u001b[0m\u001b[1;33m.\u001b[0m\u001b[0mwrite\u001b[0m\u001b[1;33m(\u001b[0m\u001b[0mstring\u001b[0m\u001b[1;33m)\u001b[0m\u001b[1;33m)\u001b[0m\u001b[1;33m\u001b[0m\u001b[1;33m\u001b[0m\u001b[0m\n\u001b[0m\u001b[0;32m    405\u001b[0m             \u001b[1;32mif\u001b[0m \u001b[0mis_child\u001b[0m\u001b[1;33m:\u001b[0m\u001b[1;33m\u001b[0m\u001b[1;33m\u001b[0m\u001b[0m\n\u001b[0;32m    406\u001b[0m                 \u001b[1;31m# mp.Pool cannot be trusted to flush promptly (or ever),\u001b[0m\u001b[1;33m\u001b[0m\u001b[1;33m\u001b[0m\u001b[1;33m\u001b[0m\u001b[0m\n",
      "\u001b[1;32m~\\anaconda3\\lib\\site-packages\\ipykernel\\iostream.py\u001b[0m in \u001b[0;36mschedule\u001b[1;34m(self, f)\u001b[0m\n\u001b[0;32m    203\u001b[0m             \u001b[0mself\u001b[0m\u001b[1;33m.\u001b[0m\u001b[0m_events\u001b[0m\u001b[1;33m.\u001b[0m\u001b[0mappend\u001b[0m\u001b[1;33m(\u001b[0m\u001b[0mf\u001b[0m\u001b[1;33m)\u001b[0m\u001b[1;33m\u001b[0m\u001b[1;33m\u001b[0m\u001b[0m\n\u001b[0;32m    204\u001b[0m             \u001b[1;31m# wake event thread (message content is ignored)\u001b[0m\u001b[1;33m\u001b[0m\u001b[1;33m\u001b[0m\u001b[1;33m\u001b[0m\u001b[0m\n\u001b[1;32m--> 205\u001b[1;33m             \u001b[0mself\u001b[0m\u001b[1;33m.\u001b[0m\u001b[0m_event_pipe\u001b[0m\u001b[1;33m.\u001b[0m\u001b[0msend\u001b[0m\u001b[1;33m(\u001b[0m\u001b[1;34mb''\u001b[0m\u001b[1;33m)\u001b[0m\u001b[1;33m\u001b[0m\u001b[1;33m\u001b[0m\u001b[0m\n\u001b[0m\u001b[0;32m    206\u001b[0m         \u001b[1;32melse\u001b[0m\u001b[1;33m:\u001b[0m\u001b[1;33m\u001b[0m\u001b[1;33m\u001b[0m\u001b[0m\n\u001b[0;32m    207\u001b[0m             \u001b[0mf\u001b[0m\u001b[1;33m(\u001b[0m\u001b[1;33m)\u001b[0m\u001b[1;33m\u001b[0m\u001b[1;33m\u001b[0m\u001b[0m\n",
      "\u001b[1;32m~\\anaconda3\\lib\\site-packages\\zmq\\sugar\\socket.py\u001b[0m in \u001b[0;36msend\u001b[1;34m(self, data, flags, copy, track, routing_id, group)\u001b[0m\n\u001b[0;32m    398\u001b[0m                                  copy_threshold=self.copy_threshold)\n\u001b[0;32m    399\u001b[0m             \u001b[0mdata\u001b[0m\u001b[1;33m.\u001b[0m\u001b[0mgroup\u001b[0m \u001b[1;33m=\u001b[0m \u001b[0mgroup\u001b[0m\u001b[1;33m\u001b[0m\u001b[1;33m\u001b[0m\u001b[0m\n\u001b[1;32m--> 400\u001b[1;33m         \u001b[1;32mreturn\u001b[0m \u001b[0msuper\u001b[0m\u001b[1;33m(\u001b[0m\u001b[0mSocket\u001b[0m\u001b[1;33m,\u001b[0m \u001b[0mself\u001b[0m\u001b[1;33m)\u001b[0m\u001b[1;33m.\u001b[0m\u001b[0msend\u001b[0m\u001b[1;33m(\u001b[0m\u001b[0mdata\u001b[0m\u001b[1;33m,\u001b[0m \u001b[0mflags\u001b[0m\u001b[1;33m=\u001b[0m\u001b[0mflags\u001b[0m\u001b[1;33m,\u001b[0m \u001b[0mcopy\u001b[0m\u001b[1;33m=\u001b[0m\u001b[0mcopy\u001b[0m\u001b[1;33m,\u001b[0m \u001b[0mtrack\u001b[0m\u001b[1;33m=\u001b[0m\u001b[0mtrack\u001b[0m\u001b[1;33m)\u001b[0m\u001b[1;33m\u001b[0m\u001b[1;33m\u001b[0m\u001b[0m\n\u001b[0m\u001b[0;32m    401\u001b[0m \u001b[1;33m\u001b[0m\u001b[0m\n\u001b[0;32m    402\u001b[0m     \u001b[1;32mdef\u001b[0m \u001b[0msend_multipart\u001b[0m\u001b[1;33m(\u001b[0m\u001b[0mself\u001b[0m\u001b[1;33m,\u001b[0m \u001b[0mmsg_parts\u001b[0m\u001b[1;33m,\u001b[0m \u001b[0mflags\u001b[0m\u001b[1;33m=\u001b[0m\u001b[1;36m0\u001b[0m\u001b[1;33m,\u001b[0m \u001b[0mcopy\u001b[0m\u001b[1;33m=\u001b[0m\u001b[1;32mTrue\u001b[0m\u001b[1;33m,\u001b[0m \u001b[0mtrack\u001b[0m\u001b[1;33m=\u001b[0m\u001b[1;32mFalse\u001b[0m\u001b[1;33m,\u001b[0m \u001b[1;33m**\u001b[0m\u001b[0mkwargs\u001b[0m\u001b[1;33m)\u001b[0m\u001b[1;33m:\u001b[0m\u001b[1;33m\u001b[0m\u001b[1;33m\u001b[0m\u001b[0m\n",
      "\u001b[1;32mzmq/backend/cython/socket.pyx\u001b[0m in \u001b[0;36mzmq.backend.cython.socket.Socket.send\u001b[1;34m()\u001b[0m\n",
      "\u001b[1;32mzmq/backend/cython/socket.pyx\u001b[0m in \u001b[0;36mzmq.backend.cython.socket.Socket.send\u001b[1;34m()\u001b[0m\n",
      "\u001b[1;32mzmq/backend/cython/socket.pyx\u001b[0m in \u001b[0;36mzmq.backend.cython.socket._send_copy\u001b[1;34m()\u001b[0m\n",
      "\u001b[1;32m~\\anaconda3\\lib\\site-packages\\zmq\\backend\\cython\\checkrc.pxd\u001b[0m in \u001b[0;36mzmq.backend.cython.checkrc._check_rc\u001b[1;34m()\u001b[0m\n",
      "\u001b[1;31mKeyboardInterrupt\u001b[0m: "
     ]
    }
   ],
   "source": [
    "import pandas as pd\n",
    "from tqdm import tqdm\n",
    "from IPython.display import display\n",
    "import warnings\n",
    "import pprint\n",
    "import time\n",
    "warnings.simplefilter('ignore')\n",
    "\n",
    "#ファイルのインポート\n",
    "import evaluation as ev\n",
    "import control_structure as cs\n",
    "import race\n",
    "import table as tb\n",
    "import init_table as init\n",
    "import creating_test as test\n",
    "import os_operation as _os_\n",
    "\n",
    "RESULTS_FILE_NAME='③' #.csvつけない\n",
    "\n",
    "# インポートする dir\n",
    "path='②/'\n",
    "\n",
    "# エクスポートする dir\n",
    "results_path='results②/'\n",
    "\n",
    "\n",
    "\n",
    "files=_os_.get_files(path)\n",
    "send_files=files['send_files']\n",
    "recv_files=files['recv_files']\n",
    "\n",
    "\n",
    "heading_results=('Task','Buffer','TestCase','SVAR','Def-Use','Plnv')\n",
    "heading=('Thread','Port','Event','Index')\n",
    "\n",
    "temp_heading=('Task','Buffer','RACE_SET','SYN')\n",
    "pre_results=pd.DataFrame({},columns=temp_heading)\n",
    "new_results=pd.DataFrame({},columns=temp_heading)\n",
    "\n",
    "for file in tqdm(range(len(recv_files))):\n",
    "    print('-------{}回目-------'.format(file+1))\n",
    "    RECEIVE_SHEET_NAME=path+recv_files[file]\n",
    "    SEND_SHEET_NAME=path+send_files[file]\n",
    "    \n",
    "    \n",
    "    \n",
    "    Qs=[pd.DataFrame({})]\n",
    "    Qr=[pd.DataFrame({})]\n",
    "    Qr[0]=pd.read_csv(RECEIVE_SHEET_NAME,names=heading)\n",
    "    Qs[0]=pd.read_csv(SEND_SHEET_NAME,names=heading)\n",
    "    \n",
    "    init_tables=init.init_main(Qr,Qs)\n",
    "    Qr=init_tables['Qr']\n",
    "    Qs=init_tables['Qs']\n",
    "    Qr_unique=init_tables['Qr_unique']\n",
    "    Qs_unique=init_tables['Qs_unique']\n",
    "\n",
    "    for way in range(2):\n",
    "        if way==0:\n",
    "            t_way=2\n",
    "            combination=0 #0の場合は既存研究の方法、1の場合は組み合わせを考慮した手法\n",
    "            ev_table=pre_results\n",
    "        elif way==1:\n",
    "            t_way=2\n",
    "            combination=1\n",
    "            ev_table=new_results\n",
    "            Qr=Qr[:1]\n",
    "            Qs=Qs[:1]\n",
    "            Qr_unique=init_tables['Qr_unique']\n",
    "            Qs_unique=init_tables['Qs_unique']\n",
    "        else:\n",
    "            print('プログラムを終了します') # shoudn't reach here\n",
    "            break\n",
    "\n",
    "\n",
    "        number=0 # 実験の回数\n",
    "        check_digit=0\n",
    "\n",
    "        race_set={}\n",
    "\n",
    "\n",
    "        start = time.time()\n",
    "        print(\"Creating race set\",end='')\n",
    "        race_set=race.creating_race_set(Qr,Qs,Qs_unique,race_set,combination)\n",
    "        elapsed_time = time.time() - start\n",
    "        print (\"\\nCreating race set took:{:.4g}\".format(elapsed_time) + \"[sec]\")\n",
    "        #pprint.pprint((race_set))\n",
    "\n",
    "        '''\n",
    "        start = time.time()\n",
    "        print(\"Creating race table\",end='')\n",
    "        table=tb.construct_race_table(Qs,Qr,Qs_unique,Qr_unique,race_set,t_way)\n",
    "        if t_way>1:\n",
    "            table=tb.expand_table(Qr,Qs,race_set,table,t_way,Qs_unique)\n",
    "        elapsed_time = time.time() - start\n",
    "        print (\"\\nCreating race table took:{:.4g}\".format(elapsed_time) + \"[sec]\")\n",
    "        table=table.astype('int64')\n",
    "\n",
    "        check_digit=1\n",
    "\n",
    "        start = time.time()\n",
    "        results=test.create_new_testcase(number,check_digit,Qr,Qs,table,race_set,Qr_unique,Qs_unique)\n",
    "        Qr=results['recv']\n",
    "        Qs=results['send']\n",
    "        elapsed_time = time.time() - start\n",
    "        print (\"Creating test case took:{:.4g}\".format(elapsed_time) + \"[sec]\")\n",
    "        print('The number of Test Case is {}.'.format(len(Qr)))\n",
    "\n",
    "\n",
    "        evaluation=ev.evaluate(Qr,Qs)\n",
    "        \n",
    "        display(table)\n",
    "        '''\n",
    "        Q=pd.concat([Qs[0],Qr[0]]).sort_index()\n",
    "        \n",
    "        race_num=0\n",
    "        \n",
    "        for key in race_set.keys():\n",
    "            race_num+=len(race_set[key])\n",
    "            \n",
    "        \n",
    "        if way==0:\n",
    "            pre_results=pre_results.append({'Task':len(Q.Thread.unique()),'Buffer':len(Q.Port.unique()),'RACE_SET':race_num,'SYN':int(len(Q)/2)},ignore_index=True)\n",
    "        elif way==1:\n",
    "            new_results=new_results.append({'Task':len(Q.Thread.unique()),'Buffer':len(Q.Port.unique()),'RACE_SET':race_num,'SYN':int(len(Q)/2)},ignore_index=True)\n",
    "        else:\n",
    "            print('error')\n",
    "\n",
    "new_results=new_results.sort_values(by=['Task'])\n",
    "pre_results=pre_results.sort_values(by=['Task'])\n",
    "results_concat=pd.concat([pre_results,new_results],axis=1)\n",
    "_os_.save_file(RESULTS_FILE_NAME,results_path,results_concat)\n"
   ]
  },
  {
   "cell_type": "code",
   "execution_count": 22,
   "metadata": {},
   "outputs": [
    {
     "name": "stdout",
     "output_type": "stream",
     "text": [
      "['s14']\n",
      "['s25']\n",
      "['s26']\n",
      "['s16']\n",
      "['s17']\n",
      "['s28']\n",
      "[]\n",
      "[]\n",
      "[]\n",
      "[]\n",
      "[]\n",
      "[]\n",
      "['s27']\n",
      "[]\n",
      "['s29']\n",
      "[]\n",
      "[]\n",
      "[]\n",
      "[]\n",
      "[]\n",
      "[]\n",
      "[]\n",
      "[]\n",
      "[]\n",
      "[]\n",
      "[]\n",
      "[]\n",
      "[]\n",
      "[]\n",
      "[]\n",
      "[]\n",
      "[]\n",
      "[]\n",
      "[]\n",
      "[]\n",
      "[]\n",
      "[]\n",
      "[]\n",
      "[]\n",
      "[]\n",
      "[]\n",
      "[]\n",
      "[]\n",
      "[]\n",
      "[]\n",
      "[]\n",
      "[]\n",
      "[]\n"
     ]
    }
   ],
   "source": [
    "for r in race_set.keys():\n",
    "    print(race_set[r])"
   ]
  },
  {
   "cell_type": "code",
   "execution_count": 21,
   "metadata": {},
   "outputs": [
    {
     "data": {
      "text/plain": [
       "{'r1': ['s14'],\n",
       " 'r2': ['s25'],\n",
       " 'r3': ['s26'],\n",
       " 'r4': ['s16'],\n",
       " 'r5': ['s17'],\n",
       " 'r6': ['s28'],\n",
       " 'r7': [],\n",
       " 'r8': [],\n",
       " 'r9': [],\n",
       " 'r10': [],\n",
       " 'r11': [],\n",
       " 'r12': [],\n",
       " 'r13': ['s27'],\n",
       " 'r14': [],\n",
       " 'r15': ['s29'],\n",
       " 'r16': [],\n",
       " 'r17': [],\n",
       " 'r18': [],\n",
       " 'r19': [],\n",
       " 'r20': [],\n",
       " 'r21': [],\n",
       " 'r22': [],\n",
       " 'r23': [],\n",
       " 'r24': [],\n",
       " 'r25': [],\n",
       " 'r26': [],\n",
       " 'r27': [],\n",
       " 'r28': [],\n",
       " 'r29': [],\n",
       " 'r30': [],\n",
       " 'r31': [],\n",
       " 'r32': [],\n",
       " 'r33': [],\n",
       " 'r34': [],\n",
       " 'r35': [],\n",
       " 'r36': [],\n",
       " 'r37': [],\n",
       " 'r38': [],\n",
       " 'r39': [],\n",
       " 'r40': [],\n",
       " 'r41': [],\n",
       " 'r42': [],\n",
       " 'r43': [],\n",
       " 'r44': [],\n",
       " 'r45': [],\n",
       " 'r46': [],\n",
       " 'r47': [],\n",
       " 'r48': []}"
      ]
     },
     "execution_count": 21,
     "metadata": {},
     "output_type": "execute_result"
    }
   ],
   "source": [
    "race_set"
   ]
  },
  {
   "cell_type": "code",
   "execution_count": 12,
   "metadata": {},
   "outputs": [
    {
     "ename": "FileNotFoundError",
     "evalue": "[WinError 3] 指定されたパスが見つかりません。: 'race/'",
     "output_type": "error",
     "traceback": [
      "\u001b[1;31m---------------------------------------------------------------------------\u001b[0m",
      "\u001b[1;31mFileNotFoundError\u001b[0m                         Traceback (most recent call last)",
      "\u001b[1;32m<ipython-input-12-fab975d17494>\u001b[0m in \u001b[0;36m<module>\u001b[1;34m\u001b[0m\n\u001b[1;32m----> 1\u001b[1;33m \u001b[0m_os_\u001b[0m\u001b[1;33m.\u001b[0m\u001b[0msave_file\u001b[0m\u001b[1;33m(\u001b[0m\u001b[0mRESULTS_FILE_NAME\u001b[0m\u001b[1;33m,\u001b[0m\u001b[0mresults_path\u001b[0m\u001b[1;33m,\u001b[0m\u001b[0mresults_concat\u001b[0m\u001b[1;33m)\u001b[0m\u001b[1;33m\u001b[0m\u001b[1;33m\u001b[0m\u001b[0m\n\u001b[0m",
      "\u001b[1;32m~\\src\\RTOS\\os_operation.py\u001b[0m in \u001b[0;36msave_file\u001b[1;34m(RESULTS_FILE_NAME, results_path, table1)\u001b[0m\n\u001b[0;32m      5\u001b[0m \u001b[1;32mdef\u001b[0m \u001b[0msave_file\u001b[0m\u001b[1;33m(\u001b[0m\u001b[0mRESULTS_FILE_NAME\u001b[0m\u001b[1;33m,\u001b[0m\u001b[0mresults_path\u001b[0m\u001b[1;33m,\u001b[0m\u001b[0mtable1\u001b[0m\u001b[1;33m)\u001b[0m\u001b[1;33m:\u001b[0m\u001b[1;33m\u001b[0m\u001b[1;33m\u001b[0m\u001b[0m\n\u001b[0;32m      6\u001b[0m     \u001b[0mRESULTS_FILE_NAME\u001b[0m\u001b[1;33m=\u001b[0m\u001b[0mRESULTS_FILE_NAME\u001b[0m\u001b[1;33m.\u001b[0m\u001b[0msplit\u001b[0m\u001b[1;33m(\u001b[0m\u001b[1;34m'.'\u001b[0m\u001b[1;33m)\u001b[0m\u001b[1;33m[\u001b[0m\u001b[1;36m0\u001b[0m\u001b[1;33m]\u001b[0m\u001b[1;33m\u001b[0m\u001b[1;33m\u001b[0m\u001b[0m\n\u001b[1;32m----> 7\u001b[1;33m     \u001b[0mresults_files\u001b[0m\u001b[1;33m=\u001b[0m\u001b[0mos\u001b[0m\u001b[1;33m.\u001b[0m\u001b[0mlistdir\u001b[0m\u001b[1;33m(\u001b[0m\u001b[0mresults_path\u001b[0m\u001b[1;33m)\u001b[0m\u001b[1;33m\u001b[0m\u001b[1;33m\u001b[0m\u001b[0m\n\u001b[0m\u001b[0;32m      8\u001b[0m     \u001b[0mresults_files\u001b[0m\u001b[1;33m=\u001b[0m\u001b[1;33m[\u001b[0m\u001b[0ms\u001b[0m \u001b[1;32mfor\u001b[0m \u001b[0ms\u001b[0m \u001b[1;32min\u001b[0m \u001b[0mresults_files\u001b[0m \u001b[1;32mif\u001b[0m \u001b[0ms\u001b[0m\u001b[1;33m.\u001b[0m\u001b[0mstartswith\u001b[0m\u001b[1;33m(\u001b[0m\u001b[0mRESULTS_FILE_NAME\u001b[0m\u001b[1;33m)\u001b[0m\u001b[1;33m]\u001b[0m\u001b[1;33m\u001b[0m\u001b[1;33m\u001b[0m\u001b[0m\n\u001b[0;32m      9\u001b[0m     \u001b[1;32mif\u001b[0m \u001b[0mresults_files\u001b[0m\u001b[1;33m:\u001b[0m\u001b[1;33m\u001b[0m\u001b[1;33m\u001b[0m\u001b[0m\n",
      "\u001b[1;31mFileNotFoundError\u001b[0m: [WinError 3] 指定されたパスが見つかりません。: 'race/'"
     ]
    }
   ],
   "source": [
    "_os_.save_file(RESULTS_FILE_NAME,results_path,results_concat)"
   ]
  },
  {
   "cell_type": "code",
   "execution_count": 8,
   "metadata": {},
   "outputs": [
    {
     "ename": "NameError",
     "evalue": "name 'combination_table' is not defined",
     "output_type": "error",
     "traceback": [
      "\u001b[1;31m---------------------------------------------------------------------------\u001b[0m",
      "\u001b[1;31mNameError\u001b[0m                                 Traceback (most recent call last)",
      "\u001b[1;32m<ipython-input-8-0033a1e6e64b>\u001b[0m in \u001b[0;36m<module>\u001b[1;34m\u001b[0m\n\u001b[1;32m----> 1\u001b[1;33m \u001b[0mcombination_table\u001b[0m\u001b[1;33m\u001b[0m\u001b[1;33m\u001b[0m\u001b[0m\n\u001b[0m",
      "\u001b[1;31mNameError\u001b[0m: name 'combination_table' is not defined"
     ]
    }
   ],
   "source": [
    "combination_table"
   ]
  },
  {
   "cell_type": "code",
   "execution_count": 9,
   "metadata": {},
   "outputs": [],
   "source": [
    "temp=list(Qr[number+1].iloc[index])"
   ]
  },
  {
   "cell_type": "code",
   "execution_count": 10,
   "metadata": {},
   "outputs": [
    {
     "data": {
      "text/plain": [
       "['r186', 'T3', 18626528, 'recv', 5, 'T3-5']"
      ]
     },
     "execution_count": 10,
     "metadata": {},
     "output_type": "execute_result"
    }
   ],
   "source": [
    "temp"
   ]
  },
  {
   "cell_type": "code",
   "execution_count": 11,
   "metadata": {},
   "outputs": [
    {
     "data": {
      "text/plain": [
       "['r186', 'T3', 18626528, 'recv', 5]"
      ]
     },
     "execution_count": 11,
     "metadata": {},
     "output_type": "execute_result"
    }
   ],
   "source": [
    "temp[:5]"
   ]
  },
  {
   "cell_type": "code",
   "execution_count": null,
   "metadata": {},
   "outputs": [],
   "source": []
  }
 ],
 "metadata": {
  "kernelspec": {
   "display_name": "Python 3",
   "language": "python",
   "name": "python3"
  },
  "language_info": {
   "codemirror_mode": {
    "name": "ipython",
    "version": 3
   },
   "file_extension": ".py",
   "mimetype": "text/x-python",
   "name": "python",
   "nbconvert_exporter": "python",
   "pygments_lexer": "ipython3",
   "version": "3.7.7"
  }
 },
 "nbformat": 4,
 "nbformat_minor": 4
}
