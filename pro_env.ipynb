{
 "cells": [
  {
   "cell_type": "code",
   "execution_count": null,
   "metadata": {},
   "outputs": [],
   "source": [
    "import pandas as pd\n",
    "from tqdm import tqdm\n",
    "from IPython.display import display\n",
    "import warnings\n",
    "import pprint\n",
    "import time\n",
    "warnings.simplefilter('ignore')\n",
    "\n",
    "#ファイルのインポート\n",
    "import evaluation as ev\n",
    "import control_structure as cs\n",
    "import race\n",
    "import table as tb\n",
    "import init_table as init\n",
    "import creating_test as test\n",
    "import os_operation as _os_\n",
    "\n",
    "RESULTS_FILE_NAME='sample' #.csvつけない\n",
    "\n",
    "# インポートする dir\n",
    "path='data_buffer2/'\n",
    "\n",
    "# エクスポートする dir\n",
    "results_path='results_buffer2/'\n",
    "\n",
    "\n",
    "files=_os_.get_files(path)\n",
    "send_files=files['send_files']\n",
    "recv_files=files['recv_files']\n",
    "\n",
    "\n",
    "heading_results=('Task','Buffer','TestCase','SVAR','Def-Use','Plnv')\n",
    "heading=('Thread','Port','Event','Index')\n",
    "pre_results=pd.DataFrame({},columns=heading_results)\n",
    "new_results=pd.DataFrame({},columns=heading_results)\n",
    "\n",
    "for file in tqdm(range(len(recv_files))):\n",
    "    print('-------{}回目-------'.format(file+1))\n",
    "    RECEIVE_SHEET_NAME=path+recv_files[file]\n",
    "    SEND_SHEET_NAME=path+send_files[file]\n",
    "    \n",
    "    Qs=[pd.DataFrame({})]\n",
    "    Qr=[pd.DataFrame({})]\n",
    "    Qr[0]=pd.read_csv(RECEIVE_SHEET_NAME,names=heading)\n",
    "    Qs[0]=pd.read_csv(SEND_SHEET_NAME,names=heading)\n",
    "    init.delete_diff(Qr,Qs)\n",
    "    Qr[0]=init.init(Qr[0],'r')\n",
    "    Qs[0]=init.init(Qs[0],'s')\n",
    "    df_unique=init.append_unique(Qr,Qs)\n",
    "    Qr_unique=df_unique['Qr']\n",
    "    Qs_unique=df_unique['Qs']\n",
    "\n",
    "    for way in range(2):\n",
    "        if way==0:\n",
    "            t_way=2\n",
    "            combination=0 #0の場合は既存研究の方法、1の場合は組み合わせを考慮した手法\n",
    "            ev_table=pre_results\n",
    "        elif way==1:\n",
    "            t_way=2\n",
    "            combination=1\n",
    "            ev_table=new_results\n",
    "            Qr=Qr[:1]\n",
    "            Qs=Qs[:1]\n",
    "        else:\n",
    "            print('プログラムを終了します') # shoudn't reach here\n",
    "            break\n",
    "\n",
    "\n",
    "        number=0 # 実験の回数\n",
    "        check_digit=0\n",
    "\n",
    "        race_set={}\n",
    "\n",
    "\n",
    "        start = time.time()\n",
    "        print(\"Creating race set\",end='')\n",
    "        race_set=race.creating_race_set(Qr,Qs,Qs_unique,race_set,combination)\n",
    "        elapsed_time = time.time() - start\n",
    "        print (\"\\nCreating race set took:{:.4g}\".format(elapsed_time) + \"[sec]\")\n",
    "        pprint.pprint((race_set))\n",
    "\n",
    "\n",
    "        start = time.time()\n",
    "        print(\"Creating race table\",end='')\n",
    "        table=tb.construct_race_table(Qs,Qr,race_set,t_way)\n",
    "        if t_way>1:\n",
    "            table=tb.expand_table(Qr,race_set,table,t_way)\n",
    "        elapsed_time = time.time() - start\n",
    "        print (\"\\nCreating race table took:{:.4g}\".format(elapsed_time) + \"[sec]\")\n",
    "        table=table.astype('int64')\n",
    "\n",
    "        check_digit=1\n",
    "\n",
    "        start = time.time()\n",
    "        results=test.create_new_testcase(number,check_digit,Qr,Qs,table,race_set,Qr_unique,Qs_unique)\n",
    "        Qr=results['recv']\n",
    "        Qs=results['send']\n",
    "        elapsed_time = time.time() - start\n",
    "        print (\"Creating test case took:{:.4g}\".format(elapsed_time) + \"[sec]\")\n",
    "        print('The number of Test Case is {}.'.format(len(table)))\n",
    "\n",
    "\n",
    "        evaluation=ev.evaluate(Qr,Qs)\n",
    "        Q=pd.concat([Qs[0],Qr[0]]).sort_index()\n",
    "        \n",
    "        if way==0:\n",
    "            pre_results=pre_results.append(evaluation,ignore_index=True)\n",
    "        elif way==1:\n",
    "            new_results=new_results.append(evaluation,ignore_index=True)\n",
    "        else:\n",
    "            print('error')\n",
    "        \n",
    "_os_.save_file(RESULTS_FILE_NAME,results_path,pre_results,new_results)\n"
   ]
  },
  {
   "cell_type": "code",
   "execution_count": 14,
   "metadata": {},
   "outputs": [
    {
     "data": {
      "text/html": [
       "<div>\n",
       "<style scoped>\n",
       "    .dataframe tbody tr th:only-of-type {\n",
       "        vertical-align: middle;\n",
       "    }\n",
       "\n",
       "    .dataframe tbody tr th {\n",
       "        vertical-align: top;\n",
       "    }\n",
       "\n",
       "    .dataframe thead th {\n",
       "        text-align: right;\n",
       "    }\n",
       "</style>\n",
       "<table border=\"1\" class=\"dataframe\">\n",
       "  <thead>\n",
       "    <tr style=\"text-align: right;\">\n",
       "      <th></th>\n",
       "    </tr>\n",
       "  </thead>\n",
       "  <tbody>\n",
       "  </tbody>\n",
       "</table>\n",
       "</div>"
      ],
      "text/plain": [
       "Empty DataFrame\n",
       "Columns: []\n",
       "Index: []"
      ]
     },
     "execution_count": 14,
     "metadata": {},
     "output_type": "execute_result"
    }
   ],
   "source": [
    "table"
   ]
  },
  {
   "cell_type": "code",
   "execution_count": 13,
   "metadata": {},
   "outputs": [
    {
     "data": {
      "text/plain": [
       "[    ID Thread      Port Event  Index\n",
       " 0   s1     T2  16955116  send      1\n",
       " 1   s2     T2  16957212  send      2\n",
       " 2   s3     T2  16955116  send      3\n",
       " 3   s4     T2  16957212  send      4\n",
       " 4   s5     T2  16955116  send      5\n",
       " 5   s6     T2  16957212  send      6\n",
       " 6   s7     T2  16955116  send      7\n",
       " 7   s8     T2  16957212  send      8\n",
       " 8   s9     T2  16955116  send      9\n",
       " 9  s10     T2  16957212  send     10]"
      ]
     },
     "execution_count": 13,
     "metadata": {},
     "output_type": "execute_result"
    }
   ],
   "source": [
    "Qs"
   ]
  },
  {
   "cell_type": "code",
   "execution_count": 5,
   "metadata": {},
   "outputs": [
    {
     "data": {
      "text/plain": [
       "0    T2\n",
       "1    T2\n",
       "2    T3\n",
       "3    T3\n",
       "Name: Thread, dtype: object"
      ]
     },
     "execution_count": 5,
     "metadata": {},
     "output_type": "execute_result"
    }
   ],
   "source": [
    "Qr[0].Thread"
   ]
  },
  {
   "cell_type": "code",
   "execution_count": 3,
   "metadata": {},
   "outputs": [],
   "source": [
    "loop=0\n",
    "i=0\n",
    "l=0\n",
    "j=1\n",
    "T='T1'\n",
    "V='p2'\n",
    "Q=pd.concat([Qs[loop],Qr[loop]]).sort_index()"
   ]
  },
  {
   "cell_type": "code",
   "execution_count": 4,
   "metadata": {},
   "outputs": [],
   "source": [
    "array=Q[((Q.Thread==T[i]) & (Q.Port==V[l])) | ((Q.Thread==T[j]) &(Q.Port==V[l]))]"
   ]
  },
  {
   "cell_type": "code",
   "execution_count": 5,
   "metadata": {},
   "outputs": [
    {
     "data": {
      "text/html": [
       "<div>\n",
       "<style scoped>\n",
       "    .dataframe tbody tr th:only-of-type {\n",
       "        vertical-align: middle;\n",
       "    }\n",
       "\n",
       "    .dataframe tbody tr th {\n",
       "        vertical-align: top;\n",
       "    }\n",
       "\n",
       "    .dataframe thead th {\n",
       "        text-align: right;\n",
       "    }\n",
       "</style>\n",
       "<table border=\"1\" class=\"dataframe\">\n",
       "  <thead>\n",
       "    <tr style=\"text-align: right;\">\n",
       "      <th></th>\n",
       "      <th>ID</th>\n",
       "      <th>Thread</th>\n",
       "      <th>Port</th>\n",
       "      <th>Event</th>\n",
       "      <th>Index</th>\n",
       "      <th>KEY</th>\n",
       "    </tr>\n",
       "  </thead>\n",
       "  <tbody>\n",
       "  </tbody>\n",
       "</table>\n",
       "</div>"
      ],
      "text/plain": [
       "Empty DataFrame\n",
       "Columns: [ID, Thread, Port, Event, Index, KEY]\n",
       "Index: []"
      ]
     },
     "execution_count": 5,
     "metadata": {},
     "output_type": "execute_result"
    }
   ],
   "source": [
    "array"
   ]
  },
  {
   "cell_type": "code",
   "execution_count": 472,
   "metadata": {},
   "outputs": [
    {
     "data": {
      "text/html": [
       "<div>\n",
       "<style scoped>\n",
       "    .dataframe tbody tr th:only-of-type {\n",
       "        vertical-align: middle;\n",
       "    }\n",
       "\n",
       "    .dataframe tbody tr th {\n",
       "        vertical-align: top;\n",
       "    }\n",
       "\n",
       "    .dataframe thead th {\n",
       "        text-align: right;\n",
       "    }\n",
       "</style>\n",
       "<table border=\"1\" class=\"dataframe\">\n",
       "  <thead>\n",
       "    <tr style=\"text-align: right;\">\n",
       "      <th></th>\n",
       "      <th>ID</th>\n",
       "      <th>Thread</th>\n",
       "      <th>Port</th>\n",
       "      <th>Event</th>\n",
       "      <th>Index</th>\n",
       "      <th>coler</th>\n",
       "    </tr>\n",
       "  </thead>\n",
       "  <tbody>\n",
       "    <tr>\n",
       "      <th>0</th>\n",
       "      <td>s2</td>\n",
       "      <td>T4</td>\n",
       "      <td>p2</td>\n",
       "      <td>send</td>\n",
       "      <td>1</td>\n",
       "      <td>NaN</td>\n",
       "    </tr>\n",
       "    <tr>\n",
       "      <th>1</th>\n",
       "      <td>s1</td>\n",
       "      <td>T1</td>\n",
       "      <td>p2</td>\n",
       "      <td>send</td>\n",
       "      <td>1</td>\n",
       "      <td>NaN</td>\n",
       "    </tr>\n",
       "    <tr>\n",
       "      <th>2</th>\n",
       "      <td>s4</td>\n",
       "      <td>T4</td>\n",
       "      <td>p3</td>\n",
       "      <td>send</td>\n",
       "      <td>2</td>\n",
       "      <td>NaN</td>\n",
       "    </tr>\n",
       "    <tr>\n",
       "      <th>3</th>\n",
       "      <td>s5</td>\n",
       "      <td>T2</td>\n",
       "      <td>p3</td>\n",
       "      <td>send</td>\n",
       "      <td>3</td>\n",
       "      <td>NaN</td>\n",
       "    </tr>\n",
       "    <tr>\n",
       "      <th>4</th>\n",
       "      <td>r1</td>\n",
       "      <td>T2</td>\n",
       "      <td>p2</td>\n",
       "      <td>res</td>\n",
       "      <td>1</td>\n",
       "      <td>white</td>\n",
       "    </tr>\n",
       "    <tr>\n",
       "      <th>5</th>\n",
       "      <td>r6</td>\n",
       "      <td>T2</td>\n",
       "      <td>p2</td>\n",
       "      <td>res</td>\n",
       "      <td>2</td>\n",
       "      <td>white</td>\n",
       "    </tr>\n",
       "    <tr>\n",
       "      <th>6</th>\n",
       "      <td>r3</td>\n",
       "      <td>T3</td>\n",
       "      <td>p3</td>\n",
       "      <td>res</td>\n",
       "      <td>1</td>\n",
       "      <td>white</td>\n",
       "    </tr>\n",
       "    <tr>\n",
       "      <th>7</th>\n",
       "      <td>r5</td>\n",
       "      <td>T3</td>\n",
       "      <td>p3</td>\n",
       "      <td>res</td>\n",
       "      <td>2</td>\n",
       "      <td>white</td>\n",
       "    </tr>\n",
       "  </tbody>\n",
       "</table>\n",
       "</div>"
      ],
      "text/plain": [
       "   ID Thread Port Event  Index  coler\n",
       "0  s2     T4   p2  send      1    NaN\n",
       "1  s1     T1   p2  send      1    NaN\n",
       "2  s4     T4   p3  send      2    NaN\n",
       "3  s5     T2   p3  send      3    NaN\n",
       "4  r1     T2   p2   res      1  white\n",
       "5  r6     T2   p2   res      2  white\n",
       "6  r3     T3   p3   res      1  white\n",
       "7  r5     T3   p3   res      2  white"
      ]
     },
     "execution_count": 472,
     "metadata": {},
     "output_type": "execute_result"
    }
   ],
   "source": [
    "Q=pd.concat([Qs[loop],Qr[loop]]).reset_index(drop=True)\n",
    "Q"
   ]
  },
  {
   "cell_type": "code",
   "execution_count": 199,
   "metadata": {},
   "outputs": [],
   "source": [
    "Q=pd.concat([Qs[0],Qr[0]]).sort_index()\n",
    "V=Qr[0].Port.unique()\n",
    "T=Q.Thread.unique()\n",
    "V_total_number=len(V)\n",
    "T_total_number=len(T)\n",
    "\n",
    "total_number=0 # いったん0→後PNに書き換える\n",
    "\n",
    "for l in range(V_total_number):\n",
    "    for i in range(0,T_total_number-1):\n",
    "        PNi=len(Q[(Q.Thread==T[i]) & (Q.Port==V[l])])-1\n",
    "        if PNi==0:\n",
    "            continue\n",
    "        else:\n",
    "            Nj=len(Q[(Q.Thread!=T[i]) & (Q.Port==V[l])])\n",
    "            total_number+=PNi*Nj+PNi\n",
    "\n",
    "value=0\n",
    "for l in range(V_total_number):\n",
    "    for i in range(0,T_total_number-1):\n",
    "        for loop in range(len(Qr)):\n",
    "            Q=pd.concat([Qs[loop],Qr[loop]]).sort_index()\n",
    "            df=Q[(Q.Thread==T[i]) & (Q.Port==V[l])]\n",
    "            if len(df)<=1:\n",
    "                continue\n",
    "            else:\n",
    "                array=[]\n",
    "                for j in range(len(df)-1):\n",
    "                    array.append([])\n",
    "                    temp=Q[df.iloc[j].name+1:df.iloc[j+1].name]\n",
    "                    if len(temp)==0:\n",
    "                        array[j].append(0)\n",
    "                    for k in range(len(temp)):\n",
    "                        array[j].append(temp.iloc[k].ID)\n",
    "                    array[j]=list(set(array[j]))\n",
    "                    value+=len(array[j])\n"
   ]
  },
  {
   "cell_type": "code",
   "execution_count": null,
   "metadata": {},
   "outputs": [],
   "source": []
  },
  {
   "cell_type": "code",
   "execution_count": 73,
   "metadata": {},
   "outputs": [
    {
     "name": "stdout",
     "output_type": "stream",
     "text": [
      "{'r1': ['s2'], 'r2': [], 'r3': ['s4'], 'r4': []}\n"
     ]
    }
   ],
   "source": [
    "race_set={}\n",
    "combination_table=pd.DataFrame({},columns=['PORT','SEND','RECV'],dtype='object')\n",
    "global Qr\n",
    "global Qs\n",
    "# race_set の初期化\n",
    "for i in range(len(Qr[0])):\n",
    "\n",
    "    race_set[Qr[0].iloc[i].ID]=[]\n",
    "\n",
    "# sでループ\n",
    "for i in range(len(Qs[0])):\n",
    "    #sでループ\n",
    "\n",
    "    number=Qs[0].iloc[i].name\n",
    "    ID=Qs[0].iloc[i].ID\n",
    "    thread=Qs[0].iloc[i].Thread\n",
    "    port=Qs[0].iloc[i].Port\n",
    "\n",
    "    pair_event=Qr[0].iloc[number]\n",
    "    \n",
    "    Qr_temp=Qr[0][(Qr[0].Thread==pair_event.Thread) & (Qr[0].Port==pair_event.Port) & (Qr[0].Index<pair_event.Index)] # race_setの候補\n",
    "    for j in range(len(Qr_temp)):\n",
    "        s_dash=Qs[0].loc[Qr_temp.iloc[j].name]\n",
    "        if s_dash.ID not in Qs_unique[Qs_unique.ID==ID].iloc[0].cstruct:\n",
    "            if combination==1:\n",
    "                if combination_check(combination_table,port,thread,s_dash.Thread,pair_event.Thread,Qr_temp.iloc[j].Thread):\n",
    "                    race_set[Qr_temp.iloc[j].ID].append(ID)\n",
    "                    send_set='['+thread+','+s_dash.Thread+']'\n",
    "                    recv_set='['+pair_event.Thread+','+Qr_temp.iloc[j].Thread+']'\n",
    "                    data=[str(port),send_set,recv_set]\n",
    "                    append_table=pd.DataFrame(data=[data],columns=['PORT','SEND','RECV'],dtype='object')\n",
    "                    combination_table=combination_table.append(append_table,ignore_index=True)\n",
    "            elif combination==0:\n",
    "                race_set[Qr_temp.iloc[j].ID].append(ID)\n",
    "\n",
    "\n",
    "    #これ以降はrの次がrだったとき"
   ]
  },
  {
   "cell_type": "code",
   "execution_count": 108,
   "metadata": {},
   "outputs": [
    {
     "data": {
      "text/plain": [
       "0"
      ]
     },
     "execution_count": 108,
     "metadata": {},
     "output_type": "execute_result"
    }
   ],
   "source": [
    "combination_table.iloc[0]"
   ]
  },
  {
   "cell_type": "code",
   "execution_count": 55,
   "metadata": {},
   "outputs": [
    {
     "data": {
      "text/html": [
       "<div>\n",
       "<style scoped>\n",
       "    .dataframe tbody tr th:only-of-type {\n",
       "        vertical-align: middle;\n",
       "    }\n",
       "\n",
       "    .dataframe tbody tr th {\n",
       "        vertical-align: top;\n",
       "    }\n",
       "\n",
       "    .dataframe thead th {\n",
       "        text-align: right;\n",
       "    }\n",
       "</style>\n",
       "<table border=\"1\" class=\"dataframe\">\n",
       "  <thead>\n",
       "    <tr style=\"text-align: right;\">\n",
       "      <th></th>\n",
       "      <th>ID</th>\n",
       "      <th>Thread</th>\n",
       "      <th>Port</th>\n",
       "      <th>Event</th>\n",
       "      <th>Index</th>\n",
       "      <th>cstruct</th>\n",
       "    </tr>\n",
       "  </thead>\n",
       "  <tbody>\n",
       "    <tr>\n",
       "      <th>0</th>\n",
       "      <td>s1</td>\n",
       "      <td>T1</td>\n",
       "      <td>p2</td>\n",
       "      <td>send</td>\n",
       "      <td>1</td>\n",
       "      <td></td>\n",
       "    </tr>\n",
       "    <tr>\n",
       "      <th>1</th>\n",
       "      <td>s2</td>\n",
       "      <td>T3</td>\n",
       "      <td>p2</td>\n",
       "      <td>send</td>\n",
       "      <td>1</td>\n",
       "      <td></td>\n",
       "    </tr>\n",
       "    <tr>\n",
       "      <th>2</th>\n",
       "      <td>s3</td>\n",
       "      <td>T4</td>\n",
       "      <td>p2</td>\n",
       "      <td>send</td>\n",
       "      <td>1</td>\n",
       "      <td></td>\n",
       "    </tr>\n",
       "    <tr>\n",
       "      <th>3</th>\n",
       "      <td>s4</td>\n",
       "      <td>T1</td>\n",
       "      <td>p2</td>\n",
       "      <td>send</td>\n",
       "      <td>2</td>\n",
       "      <td>[s1]</td>\n",
       "    </tr>\n",
       "    <tr>\n",
       "      <th>4</th>\n",
       "      <td>s5</td>\n",
       "      <td>T1</td>\n",
       "      <td>p2</td>\n",
       "      <td>send</td>\n",
       "      <td>3</td>\n",
       "      <td>[s1, s4]</td>\n",
       "    </tr>\n",
       "  </tbody>\n",
       "</table>\n",
       "</div>"
      ],
      "text/plain": [
       "   ID Thread Port Event  Index   cstruct\n",
       "0  s1     T1   p2  send      1          \n",
       "1  s2     T3   p2  send      1          \n",
       "2  s3     T4   p2  send      1          \n",
       "3  s4     T1   p2  send      2      [s1]\n",
       "4  s5     T1   p2  send      3  [s1, s4]"
      ]
     },
     "execution_count": 55,
     "metadata": {},
     "output_type": "execute_result"
    }
   ],
   "source": [
    "Qs_unique"
   ]
  },
  {
   "cell_type": "code",
   "execution_count": 9,
   "metadata": {},
   "outputs": [],
   "source": [
    "import evaluation as ev"
   ]
  },
  {
   "cell_type": "code",
   "execution_count": 10,
   "metadata": {},
   "outputs": [
    {
     "name": "stdout",
     "output_type": "stream",
     "text": [
      "hello\n"
     ]
    }
   ],
   "source": [
    "ev.hello()"
   ]
  },
  {
   "cell_type": "code",
   "execution_count": 29,
   "metadata": {},
   "outputs": [
    {
     "data": {
      "text/plain": [
       "1"
      ]
     },
     "execution_count": 29,
     "metadata": {},
     "output_type": "execute_result"
    }
   ],
   "source": [
    "t_way"
   ]
  },
  {
   "cell_type": "code",
   "execution_count": 47,
   "metadata": {},
   "outputs": [],
   "source": [
    "def cstruct(event,results):\n",
    "    global Q\n",
    "    global Qs\n",
    "    global Qr\n",
    "    global check_digit\n",
    "    \n",
    "    if check_digit==0:\n",
    "        magic=0\n",
    "    else:\n",
    "        magic=1\n",
    "    \n",
    "    thread=event['Thread']\n",
    "    index=event['Index']\n",
    "       \n",
    "    if index==1:\n",
    "        return ''\n",
    "    for i in range(index-1,0,-1):\n",
    "        try:\n",
    "            temp=Qr[number+magic][(Qr[number+magic].Thread == thread) & (Qr[number+magic].Index==i)].iloc[0]\n",
    "        except:\n",
    "            temp=Qs[number+magic][(Qs[number+magic].Thread == thread) & (Qs[number+magic].Index==i)].iloc[0]\n",
    "        if temp['Event']=='send':\n",
    "            results.append(temp['ID'])\n",
    "            print('true:{}'.format(temp['ID']))\n",
    "            event=temp\n",
    "            results.extend(cstruct(event,results))\n",
    "        else:\n",
    "            results.append(temp['ID'])\n",
    "            send=Qs[number+magic].iloc[temp.name]\n",
    "            results.append(send['ID'])\n",
    "            print('else:{}'.format(send['ID']))\n",
    "            results.extend(cstruct(send,results))\n",
    "    return list(set(results))\n"
   ]
  },
  {
   "cell_type": "code",
   "execution_count": 48,
   "metadata": {},
   "outputs": [],
   "source": [
    "i=0\n",
    "check_digit=0"
   ]
  },
  {
   "cell_type": "code",
   "execution_count": 12,
   "metadata": {},
   "outputs": [
    {
     "data": {
      "text/html": [
       "<div>\n",
       "<style scoped>\n",
       "    .dataframe tbody tr th:only-of-type {\n",
       "        vertical-align: middle;\n",
       "    }\n",
       "\n",
       "    .dataframe tbody tr th {\n",
       "        vertical-align: top;\n",
       "    }\n",
       "\n",
       "    .dataframe thead th {\n",
       "        text-align: right;\n",
       "    }\n",
       "</style>\n",
       "<table border=\"1\" class=\"dataframe\">\n",
       "  <thead>\n",
       "    <tr style=\"text-align: right;\">\n",
       "      <th></th>\n",
       "      <th>ID</th>\n",
       "      <th>Thread</th>\n",
       "      <th>Port</th>\n",
       "      <th>Event</th>\n",
       "      <th>Index</th>\n",
       "      <th>coler</th>\n",
       "      <th>cstruct</th>\n",
       "    </tr>\n",
       "  </thead>\n",
       "  <tbody>\n",
       "    <tr>\n",
       "      <th>0</th>\n",
       "      <td>r1</td>\n",
       "      <td>T2</td>\n",
       "      <td>[p2]</td>\n",
       "      <td>res</td>\n",
       "      <td>1</td>\n",
       "      <td>white</td>\n",
       "      <td></td>\n",
       "    </tr>\n",
       "    <tr>\n",
       "      <th>1</th>\n",
       "      <td>r2</td>\n",
       "      <td>T2</td>\n",
       "      <td>[p2]</td>\n",
       "      <td>res</td>\n",
       "      <td>2</td>\n",
       "      <td>white</td>\n",
       "      <td>[s1, r1]</td>\n",
       "    </tr>\n",
       "    <tr>\n",
       "      <th>2</th>\n",
       "      <td>r3</td>\n",
       "      <td>T3</td>\n",
       "      <td>[p3]</td>\n",
       "      <td>res</td>\n",
       "      <td>1</td>\n",
       "      <td>white</td>\n",
       "      <td></td>\n",
       "    </tr>\n",
       "    <tr>\n",
       "      <th>3</th>\n",
       "      <td>r4</td>\n",
       "      <td>T3</td>\n",
       "      <td>[p3]</td>\n",
       "      <td>res</td>\n",
       "      <td>2</td>\n",
       "      <td>white</td>\n",
       "      <td>[r3, s3, s2, r2, s1, r1]</td>\n",
       "    </tr>\n",
       "    <tr>\n",
       "      <th>4</th>\n",
       "      <td>r5</td>\n",
       "      <td>T3</td>\n",
       "      <td>[p3]</td>\n",
       "      <td>res</td>\n",
       "      <td>2</td>\n",
       "      <td>white</td>\n",
       "      <td>[r3, s4, s2]</td>\n",
       "    </tr>\n",
       "    <tr>\n",
       "      <th>5</th>\n",
       "      <td>r6</td>\n",
       "      <td>T2</td>\n",
       "      <td>[p2]</td>\n",
       "      <td>res</td>\n",
       "      <td>2</td>\n",
       "      <td>white</td>\n",
       "      <td>[s2, r1]</td>\n",
       "    </tr>\n",
       "    <tr>\n",
       "      <th>6</th>\n",
       "      <td>r7</td>\n",
       "      <td>T3</td>\n",
       "      <td>[p3]</td>\n",
       "      <td>res</td>\n",
       "      <td>2</td>\n",
       "      <td>white</td>\n",
       "      <td>[r3, r6, s3, s2, s1, r1]</td>\n",
       "    </tr>\n",
       "  </tbody>\n",
       "</table>\n",
       "</div>"
      ],
      "text/plain": [
       "   ID Thread  Port Event  Index  coler                   cstruct\n",
       "0  r1     T2  [p2]   res      1  white                          \n",
       "1  r2     T2  [p2]   res      2  white                  [s1, r1]\n",
       "2  r3     T3  [p3]   res      1  white                          \n",
       "3  r4     T3  [p3]   res      2  white  [r3, s3, s2, r2, s1, r1]\n",
       "4  r5     T3  [p3]   res      2  white              [r3, s4, s2]\n",
       "5  r6     T2  [p2]   res      2  white                  [s2, r1]\n",
       "6  r7     T3  [p3]   res      2  white  [r3, r6, s3, s2, s1, r1]"
      ]
     },
     "execution_count": 12,
     "metadata": {},
     "output_type": "execute_result"
    }
   ],
   "source": [
    "Qr_unique"
   ]
  },
  {
   "cell_type": "code",
   "execution_count": 40,
   "metadata": {},
   "outputs": [
    {
     "data": {
      "text/html": [
       "<div>\n",
       "<style scoped>\n",
       "    .dataframe tbody tr th:only-of-type {\n",
       "        vertical-align: middle;\n",
       "    }\n",
       "\n",
       "    .dataframe tbody tr th {\n",
       "        vertical-align: top;\n",
       "    }\n",
       "\n",
       "    .dataframe thead th {\n",
       "        text-align: right;\n",
       "    }\n",
       "</style>\n",
       "<table border=\"1\" class=\"dataframe\">\n",
       "  <thead>\n",
       "    <tr style=\"text-align: right;\">\n",
       "      <th></th>\n",
       "      <th>r1</th>\n",
       "      <th>r3</th>\n",
       "    </tr>\n",
       "  </thead>\n",
       "  <tbody>\n",
       "    <tr>\n",
       "      <th>0</th>\n",
       "      <td>0</td>\n",
       "      <td>1</td>\n",
       "    </tr>\n",
       "    <tr>\n",
       "      <th>1</th>\n",
       "      <td>1</td>\n",
       "      <td>0</td>\n",
       "    </tr>\n",
       "    <tr>\n",
       "      <th>2</th>\n",
       "      <td>1</td>\n",
       "      <td>1</td>\n",
       "    </tr>\n",
       "  </tbody>\n",
       "</table>\n",
       "</div>"
      ],
      "text/plain": [
       "   r1  r3\n",
       "0   0   1\n",
       "1   1   0\n",
       "2   1   1"
      ]
     },
     "execution_count": 40,
     "metadata": {},
     "output_type": "execute_result"
    }
   ],
   "source": [
    "table"
   ]
  },
  {
   "cell_type": "code",
   "execution_count": null,
   "metadata": {},
   "outputs": [],
   "source": []
  }
 ],
 "metadata": {
  "kernelspec": {
   "display_name": "Python 3",
   "language": "python",
   "name": "python3"
  },
  "language_info": {
   "codemirror_mode": {
    "name": "ipython",
    "version": 3
   },
   "file_extension": ".py",
   "mimetype": "text/x-python",
   "name": "python",
   "nbconvert_exporter": "python",
   "pygments_lexer": "ipython3",
   "version": "3.7.7"
  }
 },
 "nbformat": 4,
 "nbformat_minor": 4
}
